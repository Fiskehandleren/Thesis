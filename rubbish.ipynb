{
 "cells": [
  {
   "cell_type": "code",
   "execution_count": null,
   "metadata": {},
   "outputs": [],
   "source": [
    "t = np.linspace(0,100,100)\n",
    "y = 5 * np.sin(t/10) + 4*np.random.randn(100*150).reshape(150, 100)\n",
    "y_ = 5 * np.sin(t/10) + 4*np.random.randn(100*4000).reshape(4000, 100)\n",
    "\n",
    "t__ = np.linspace(0,100,6) \n",
    "y__ = 5 * np.sin(t__/10) + 4*np.random.randn(6*4000).reshape(4000, 6)\n",
    "\n",
    "\n",
    "def tsplot(x, y, n=20, percentile_min=1, percentile_max=99, color='r', plot_mean=True, plot_median=False, line_color='k', **kwargs):\n",
    "    # calculate the lower and upper percentile groups, skipping 50 percentile\n",
    "    perc1 = np.percentile(y, np.linspace(percentile_min, 50, num=n, endpoint=False), axis=0)\n",
    "    perc2 = np.percentile(y, np.linspace(50, percentile_max, num=n+1)[1:], axis=0)\n",
    "\n",
    "    print(perc1.shape)\n",
    "    print(perc2.shape)\n",
    "    \n",
    "    if 'alpha' in kwargs:\n",
    "        alpha = kwargs.pop('alpha')\n",
    "    else:\n",
    "        alpha = 1/n\n",
    "    # fill lower and upper percentile groups\n",
    "    for p1, p2 in zip(perc1, perc2):\n",
    "        plt.fill_between(x, p1, p2, alpha=alpha, color=color, edgecolor=None)\n",
    "\n",
    "\n",
    "    if plot_mean:\n",
    "        plt.plot(x, np.mean(y, axis=0), color=line_color)\n",
    "\n",
    "\n",
    "    if plot_median:\n",
    "        plt.plot(x, np.median(y, axis=0), color=line_color)\n",
    "    \n",
    "    return plt.gca()\n",
    "tsplot(t, y, n=5, percentile_min=2.5, percentile_max=97.5, plot_median=True, plot_mean=False, color='g', line_color='navy')"
   ]
  }
 ],
 "metadata": {
  "kernelspec": {
   "display_name": "Python 3",
   "language": "python",
   "name": "python3"
  },
  "language_info": {
   "name": "python",
   "version": "3.9.4"
  },
  "orig_nbformat": 4,
  "vscode": {
   "interpreter": {
    "hash": "8b25620549bbd643200dfc274c7d1a1f0dbb88e70029c5b729f994804e9a413f"
   }
  }
 },
 "nbformat": 4,
 "nbformat_minor": 2
}

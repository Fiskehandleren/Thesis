{
 "cells": [
  {
   "cell_type": "code",
   "execution_count": 7,
   "metadata": {},
   "outputs": [],
   "source": [
    "import pandas as pd \n",
    "import datetime\n",
    "import matplotlib.pyplot as plt\n",
    "from matplotlib.ticker import MaxNLocator\n",
    "import numpy as np\n",
    "from math import sqrt\n",
    "\n",
    "plt.style.use('ggplot')\n",
    "\n",
    "from statsmodels.tsa.arima.model import ARIMA\n",
    "from sklearn.metrics import mean_squared_error\n",
    "from statsmodels.tsa.arima_process import ArmaProcess\n",
    "\n",
    "from dataloader import load_data, create_count_data"
   ]
  },
  {
   "cell_type": "code",
   "execution_count": 9,
   "metadata": {},
   "outputs": [],
   "source": [
    "X_all_30_train = np.load('DeepLearningFinalProject-main/X_all_30_train.npy')\n",
    "X_all_30_test = np.load('DeepLearningFinalProject-main/X_all_30_test_new.npy')\n",
    "X_all_7_train = np.load('DeepLearningFinalProject-main/X_all_7_train.npy')\n",
    "X_all_7_test = np.load('DeepLearningFinalProject-main/X_all_7_test_new.npy')\n",
    "y_all_30_train = np.load('DeepLearningFinalProject-main/y_all_30_train.npy')\n",
    "y_all_30_test = np.load('DeepLearningFinalProject-main/y_all_30_test_new.npy')\n",
    "y_all_7_train = np.load('DeepLearningFinalProject-main/y_all_7_train.npy')\n",
    "y_all_7_test = np.load('DeepLearningFinalProject-main/y_all_7_test_new.npy')\n"
   ]
  },
  {
   "cell_type": "code",
   "execution_count": null,
   "metadata": {},
   "outputs": [],
   "source": []
  }
 ],
 "metadata": {
  "kernelspec": {
   "display_name": "base",
   "language": "python",
   "name": "python3"
  },
  "language_info": {
   "codemirror_mode": {
    "name": "ipython",
    "version": 3
   },
   "file_extension": ".py",
   "mimetype": "text/x-python",
   "name": "python",
   "nbconvert_exporter": "python",
   "pygments_lexer": "ipython3",
   "version": "3.9.5"
  },
  "orig_nbformat": 4,
  "vscode": {
   "interpreter": {
    "hash": "3d597f4c481aa0f25dceb95d2a0067e73c0966dcbd003d741d821a7208527ecf"
   }
  }
 },
 "nbformat": 4,
 "nbformat_minor": 2
}

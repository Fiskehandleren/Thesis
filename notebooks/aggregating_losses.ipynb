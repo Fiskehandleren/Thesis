{
 "cells": [
  {
   "cell_type": "code",
   "execution_count": 37,
   "metadata": {},
   "outputs": [],
   "source": [
    "\n",
    "import sys \n",
    "sys.path.append('..')\n",
    "\n",
    "import pandas as pd\n",
    "import matplotlib.pyplot as plt\n",
    "from glob import glob\n",
    "import numpy as np\n",
    "import seaborn as sns\n"
   ]
  },
  {
   "cell_type": "code",
   "execution_count": 39,
   "metadata": {},
   "outputs": [],
   "source": [
    "gru_loss_name = 'gru_lead1_loss.csv'\n",
    "lstm_loss_name = 'lstm_lead1_loss.csv'\n"
   ]
  },
  {
   "cell_type": "code",
   "execution_count": 40,
   "metadata": {},
   "outputs": [
    {
     "data": {
      "text/plain": [
       "56"
      ]
     },
     "execution_count": 40,
     "metadata": {},
     "output_type": "execute_result"
    }
   ],
   "source": [
    "len(np.repeat(np.arange(1,8),8))"
   ]
  },
  {
   "cell_type": "code",
   "execution_count": 41,
   "metadata": {},
   "outputs": [],
   "source": [
    "columns_to_sum = ['test_loss', 'test_loss_true', 'test_mse', 'test_mae']\n",
    "clusters = ['WEBSTER', 'HIGH', 'TED', 'HAMILTON', 'RINCONADA', 'CAMBRIDGE', 'MPL', 'BRYANT']\n",
    "\n",
    "df_gru = pd.read_csv(\"../data/LossCSVs/\" + gru_loss_name, index_col=0)\n",
    "df_lstm = pd.read_csv(\"../data/LossCSVs/\" + lstm_loss_name, index_col=0)\n",
    "df_gru['run_no'] = np.repeat(np.arange(1,8),8)\n",
    "df_lstm['run_no'] = np.repeat(np.arange(1,8),8)\n",
    "\n",
    "df_gru_agg = df_gru.groupby('run_no').sum()\n",
    "df_lstm_agg = df_lstm.groupby('run_no').sum()\n"
   ]
  },
  {
   "cell_type": "code",
   "execution_count": 42,
   "metadata": {},
   "outputs": [
    {
     "name": "stdout",
     "output_type": "stream",
     "text": [
      "test_loss         6.56\n",
      "test_loss_true   -1.17\n",
      "test_mse          7.31\n",
      "test_mae          4.88\n",
      "dtype: float64\n",
      "test_loss         0.07\n",
      "test_loss_true    0.08\n",
      "test_mse          0.53\n",
      "test_mae          0.16\n",
      "dtype: float64\n"
     ]
    }
   ],
   "source": [
    "print(np.round(df_gru_agg[columns_to_sum].mean(),2))\n",
    "print(np.round(df_gru_agg[columns_to_sum].std(),2))"
   ]
  },
  {
   "cell_type": "code",
   "execution_count": 44,
   "metadata": {},
   "outputs": [
    {
     "name": "stdout",
     "output_type": "stream",
     "text": [
      "test_loss         6.84\n",
      "test_loss_true   -0.71\n",
      "test_mse          8.87\n",
      "test_mae          5.67\n",
      "dtype: float64\n",
      "test_loss         0.02\n",
      "test_loss_true    0.04\n",
      "test_mse          0.48\n",
      "test_mae          0.10\n",
      "dtype: float64\n"
     ]
    }
   ],
   "source": [
    "print(np.round(df_lstm_agg[columns_to_sum].mean(),2))\n",
    "print(np.round(df_lstm_agg[columns_to_sum].std(),2))"
   ]
  },
  {
   "cell_type": "code",
   "execution_count": null,
   "metadata": {},
   "outputs": [],
   "source": []
  }
 ],
 "metadata": {
  "kernelspec": {
   "display_name": "base",
   "language": "python",
   "name": "python3"
  },
  "language_info": {
   "codemirror_mode": {
    "name": "ipython",
    "version": 3
   },
   "file_extension": ".py",
   "mimetype": "text/x-python",
   "name": "python",
   "nbconvert_exporter": "python",
   "pygments_lexer": "ipython3",
   "version": "3.9.5"
  },
  "orig_nbformat": 4
 },
 "nbformat": 4,
 "nbformat_minor": 2
}

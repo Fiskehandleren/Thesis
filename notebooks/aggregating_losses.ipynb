{
 "cells": [
  {
   "cell_type": "code",
   "execution_count": 111,
   "metadata": {},
   "outputs": [],
   "source": [
    "import sys \n",
    "sys.path.append('..')\n",
    "\n",
    "import pandas as pd\n",
    "import matplotlib.pyplot as plt\n",
    "from glob import glob\n",
    "import numpy as np\n"
   ]
  },
  {
   "cell_type": "code",
   "execution_count": 112,
   "metadata": {},
   "outputs": [],
   "source": [
    "columns_to_agg = ['test_loss', 'test_loss_true', 'test_mae', 'test_mse']\n",
    "clusters = ['WEBSTER', 'HIGH', 'TED', 'HAMILTON', 'RINCONADA', 'CAMBRIDGE', 'MPL', 'BRYANT']\n",
    "data_path = \"../data/LossCSVs\""
   ]
  },
  {
   "cell_type": "code",
   "execution_count": 117,
   "metadata": {},
   "outputs": [
    {
     "name": "stdout",
     "output_type": "stream",
     "text": [
      "Warning: Missing data for aware lstm 1 stat3. Path ../data/LossCSVs/loss_lstmlead1_stat3.csv does not exist\n",
      "Warning: Missing data for aware gru 48 dyn1. Path ../data/LossCSVs/loss_grulead48_dyn1.csv does not exist\n",
      "Warning: Missing data for aware ar 48 stat2. Path ../data/LossCSVs/loss_arlead48_stat2.csv does not exist\n",
      "Warning: Missing data for aware ar 48 stat3. Path ../data/LossCSVs/loss_arlead48_stat3.csv does not exist\n"
     ]
    }
   ],
   "source": [
    "import os\n",
    "\n",
    "def load_csv(model, lead, strategy, censor_level):\n",
    "    base_name = f\"{data_path}/loss_{model}lead{lead}_{strategy}{censor_level}\"\n",
    "\n",
    "    aware_path = f\"{base_name}.csv\"\n",
    "    unaware_path = f\"{base_name}_unaware.csv\"\n",
    "\n",
    "    if not os.path.exists(aware_path):\n",
    "        print(f\"Warning: Missing data for aware {model} {lead} {strategy}{censor_level}. Path {aware_path} does not exist\")\n",
    "        raise FileNotFoundError\n",
    "    else:\n",
    "        aware_df = pd.read_csv(aware_path)\n",
    "        aware_df = aware_df[aware_df.State != 'crashed']\n",
    "    if not os.path.exists(unaware_path):\n",
    "        # print(f\"Warning: Missing data for unaware {model} {lead} {strategy}{censor_level}.Path {unaware_path} does not exist\")\n",
    "        #raise FileNotFoundError\n",
    "        unaware_df = None\n",
    "    else:\n",
    "        unaware_df = pd.read_csv(unaware_path)\n",
    "        unaware_df = unaware_df[unaware_df.State != 'crashed']\n",
    "        unaware_df = None # currently all unaware models are incorrect\n",
    "    return aware_df, unaware_df\n",
    "\n",
    "def calculate_losses(df, df_unaware, model_name, columns_to_agg):\n",
    "    agg_mean = np.round(df[columns_to_agg].mean(),2)\n",
    "    agg_std = np.round(df[columns_to_agg].std(),2)\n",
    "    if df_unaware is not None:\n",
    "        agg_mean_unaware = np.round(df_unaware[columns_to_agg].mean(),2)\n",
    "        agg_std_unaware = np.round(df_unaware[columns_to_agg].std(),2)\n",
    "\n",
    "    losses = [model_name.upper()]\n",
    "    for col in columns_to_agg:\n",
    "        if df_unaware is None:\n",
    "            mean_unaware = \"xx\"\n",
    "            std_unaware = \"xx\"\n",
    "        else:\n",
    "            mean_unaware = agg_mean_unaware[col].astype(str)\n",
    "            std_unaware = agg_std_unaware[col].astype(str)\n",
    "        # Unaware models don't have a censored loss\n",
    "        if col == 'test_loss':\n",
    "            losses.append('$' + agg_mean[col].astype(str) + r' \\pm ' + agg_std[col].astype(str) + '$')\n",
    "        else:\n",
    "            losses.append('$' + agg_mean[col].astype(str) + r' \\pm ' + agg_std[col].astype(str) + '$ / $' + mean_unaware + r' \\pm ' + std_unaware + '$')\n",
    "    return losses\n",
    "\n",
    "leads = [1, 48]\n",
    "strategies = {\n",
    "    'dyn': [1, 2],\n",
    "    'stat': [2, 3]\n",
    "}\n",
    "\n",
    "models = ['gru', 'lstm', 'ar']\n",
    "leads = [1, 48]\n",
    "\n",
    "# Store the dataframes in a dictionary\n",
    "\n",
    "# Iterate over all the combinations\n",
    "df_losses = pd.DataFrame(columns=['Forecast lead', 'Model', 'Strategy'] + columns_to_agg)\n",
    "\n",
    "no_runs_dict = {}\n",
    "\n",
    "for lead in leads:\n",
    "    for strategy, censor_levels in strategies.items():\n",
    "        for censor_level in censor_levels:\n",
    "            for model in models:\n",
    "                # Load data\n",
    "                try:\n",
    "                    aware, unaware = load_csv(model, lead, strategy, censor_level)\n",
    "                except:\n",
    "                    continue\n",
    "                # Figure out how many runs we have\n",
    "                if unaware is not None:\n",
    "                    no_runs_unaware = np.floor(unaware.shape[0]/8)\n",
    "                    unaware = unaware.groupby('cluster').head(no_runs_unaware).copy()\n",
    "                    unaware.loc[:, \"run_no\"] = np.repeat(np.arange(1, 1+no_runs_unaware), 8)\n",
    "                    unaware_agg = unaware.groupby('run_no').mean().reset_index()\n",
    "                else:\n",
    "                    unaware_agg = None\n",
    "                no_runs_aware = np.floor(aware.shape[0]/8)\n",
    "                # print(f\"Model {model} lead {lead} strategy {strategy} censor level {censor_level} has {no_runs_aware} aware runs\")\n",
    "                # Take the first no_runs runs\n",
    "                aware = aware.groupby('cluster').head(no_runs_aware).copy()\n",
    "                aware.loc[:, \"run_no\"] = np.repeat(np.arange(1, 1+no_runs_aware), 8)\n",
    "                # Mean over runs\n",
    "                aware_agg = aware.groupby('run_no').mean().reset_index()\n",
    "\n",
    "                df_losses.loc[len(df_losses)] = [lead, strategy+ str(censor_level)] + calculate_losses(aware_agg, unaware_agg, model, columns_to_agg)"
   ]
  },
  {
   "cell_type": "code",
   "execution_count": 114,
   "metadata": {},
   "outputs": [
    {
     "name": "stdout",
     "output_type": "stream",
     "text": [
      "\\begin{tabular}{lrllllll}\n",
      " & Forecast lead & Model & Strategy & test_loss & test_loss_true & test_mae & test_mse \\\\\n",
      "0 & 1 & dyn1 & GRU & $0.88 \\pm 0.0$ & $-0.16 \\pm 0.01$ / $xx \\pm xx$ & $0.58 \\pm 0.01$ / $xx \\pm xx$ & $0.82 \\pm 0.04$ / $xx \\pm xx$ \\\\\n",
      "1 & 1 & dyn1 & LSTM & $0.93 \\pm 0.0$ & $-0.1 \\pm 0.01$ / $xx \\pm xx$ & $0.68 \\pm 0.03$ / $xx \\pm xx$ & $1.04 \\pm 0.1$ / $xx \\pm xx$ \\\\\n",
      "2 & 1 & dyn1 & AR & $1.12 \\pm 0.04$ & $0.17 \\pm 0.03$ / $xx \\pm xx$ & $1.21 \\pm 0.05$ / $xx \\pm xx$ & $6.49 \\pm 1.98$ / $xx \\pm xx$ \\\\\n",
      "3 & 1 & dyn2 & GRU & $0.82 \\pm 0.01$ & $-0.15 \\pm 0.01$ / $xx \\pm xx$ & $0.61 \\pm 0.02$ / $xx \\pm xx$ & $0.91 \\pm 0.07$ / $xx \\pm xx$ \\\\\n",
      "4 & 1 & dyn2 & LSTM & $0.85 \\pm 0.0$ & $-0.09 \\pm 0.0$ / $xx \\pm xx$ & $0.71 \\pm 0.01$ / $xx \\pm xx$ & $1.11 \\pm 0.06$ / $xx \\pm xx$ \\\\\n",
      "5 & 1 & dyn2 & AR & $0.94 \\pm 0.02$ & $0.09 \\pm 0.07$ / $xx \\pm xx$ & $1.07 \\pm 0.12$ / $xx \\pm xx$ & $3.23 \\pm 0.95$ / $xx \\pm xx$ \\\\\n",
      "6 & 1 & stat2 & GRU & $0.46 \\pm 0.01$ & $-0.09 \\pm 0.02$ / $xx \\pm xx$ & $0.75 \\pm 0.02$ / $xx \\pm xx$ & $1.41 \\pm 0.1$ / $xx \\pm xx$ \\\\\n",
      "7 & 1 & stat2 & LSTM & $0.5 \\pm 0.0$ & $-0.01 \\pm 0.01$ / $xx \\pm xx$ & $0.89 \\pm 0.02$ / $xx \\pm xx$ & $1.73 \\pm 0.09$ / $xx \\pm xx$ \\\\\n",
      "8 & 1 & stat2 & AR & $0.51 \\pm 0.01$ & $0.14 \\pm 0.04$ / $xx \\pm xx$ & $1.21 \\pm 0.08$ / $xx \\pm xx$ & $3.97 \\pm 0.8$ / $xx \\pm xx$ \\\\\n",
      "9 & 1 & stat3 & GRU & $0.59 \\pm 0.0$ & $-0.13 \\pm 0.01$ / $xx \\pm xx$ & $0.66 \\pm 0.02$ / $xx \\pm xx$ & $1.12 \\pm 0.08$ / $xx \\pm xx$ \\\\\n",
      "10 & 1 & stat3 & AR & $0.66 \\pm 0.01$ & $0.1 \\pm 0.03$ / $xx \\pm xx$ & $1.16 \\pm 0.07$ / $xx \\pm xx$ & $3.52 \\pm 0.5$ / $xx \\pm xx$ \\\\\n",
      "11 & 48 & dyn1 & LSTM & $1.24 \\pm 0.01$ & $0.16 \\pm 0.01$ / $xx \\pm xx$ & $0.96 \\pm 0.02$ / $xx \\pm xx$ & $1.79 \\pm 0.07$ / $xx \\pm xx$ \\\\\n",
      "12 & 48 & dyn1 & AR & $0.23 \\pm 0.01$ & $0.23 \\pm 0.01$ / $xx \\pm xx$ & $0.99 \\pm 0.03$ / $xx \\pm xx$ & $2.15 \\pm 0.21$ / $xx \\pm xx$ \\\\\n",
      "13 & 48 & dyn2 & GRU & $1.2 \\pm 0.04$ & $0.2 \\pm 0.04$ / $xx \\pm xx$ & $0.97 \\pm 0.03$ / $xx \\pm xx$ & $1.97 \\pm 0.19$ / $xx \\pm xx$ \\\\\n",
      "14 & 48 & dyn2 & LSTM & $1.19 \\pm 0.03$ & $0.18 \\pm 0.03$ / $xx \\pm xx$ & $0.96 \\pm 0.03$ / $xx \\pm xx$ & $1.84 \\pm 0.14$ / $xx \\pm xx$ \\\\\n",
      "15 & 48 & dyn2 & AR & $1.19 \\pm 0.02$ & $0.21 \\pm 0.03$ / $xx \\pm xx$ & $1.1 \\pm 0.05$ / $xx \\pm xx$ & $2.47 \\pm 0.32$ / $xx \\pm xx$ \\\\\n",
      "16 & 48 & stat2 & GRU & $0.73 \\pm 0.01$ & $0.17 \\pm 0.02$ / $xx \\pm xx$ & $0.96 \\pm 0.02$ / $xx \\pm xx$ & $1.91 \\pm 0.12$ / $xx \\pm xx$ \\\\\n",
      "17 & 48 & stat2 & LSTM & $0.76 \\pm 0.01$ & $0.21 \\pm 0.03$ / $xx \\pm xx$ & $1.02 \\pm 0.02$ / $xx \\pm xx$ & $2.07 \\pm 0.1$ / $xx \\pm xx$ \\\\\n",
      "18 & 48 & stat3 & GRU & $0.88 \\pm 0.02$ & $0.13 \\pm 0.03$ / $xx \\pm xx$ & $0.92 \\pm 0.04$ / $xx \\pm xx$ & $1.71 \\pm 0.17$ / $xx \\pm xx$ \\\\\n",
      "19 & 48 & stat3 & LSTM & $0.91 \\pm 0.01$ & $0.17 \\pm 0.02$ / $xx \\pm xx$ & $0.99 \\pm 0.02$ / $xx \\pm xx$ & $1.89 \\pm 0.09$ / $xx \\pm xx$ \\\\\n",
      "\\end{tabular}\n",
      "\n"
     ]
    }
   ],
   "source": [
    "print(df_losses.style.to_latex())"
   ]
  },
  {
   "cell_type": "code",
   "execution_count": 115,
   "metadata": {},
   "outputs": [
    {
     "name": "stdout",
     "output_type": "stream",
     "text": [
      "Warning: Missing data for unaware ar 48 dyn1.Path ../data/LossCSVs/loss_arlead48_dyn1_unaware.csv does not exist\n"
     ]
    },
    {
     "data": {
      "text/plain": [
       "0.22780590574257076"
      ]
     },
     "execution_count": 115,
     "metadata": {},
     "output_type": "execute_result"
    }
   ],
   "source": [
    "load_csv('ar', 48, 'dyn', 1)[0]['test_loss'].mean()"
   ]
  },
  {
   "cell_type": "code",
   "execution_count": null,
   "metadata": {},
   "outputs": [],
   "source": []
  }
 ],
 "metadata": {
  "kernelspec": {
   "display_name": "base",
   "language": "python",
   "name": "python3"
  },
  "language_info": {
   "codemirror_mode": {
    "name": "ipython",
    "version": 3
   },
   "file_extension": ".py",
   "mimetype": "text/x-python",
   "name": "python",
   "nbconvert_exporter": "python",
   "pygments_lexer": "ipython3",
   "version": "3.10.9"
  },
  "orig_nbformat": 4
 },
 "nbformat": 4,
 "nbformat_minor": 2
}

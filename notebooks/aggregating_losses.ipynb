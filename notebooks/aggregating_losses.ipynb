{
 "cells": [
  {
   "cell_type": "code",
   "execution_count": 4,
   "metadata": {},
   "outputs": [],
   "source": [
    "\n",
    "import sys \n",
    "sys.path.append('..')\n",
    "\n",
    "import pandas as pd\n",
    "import matplotlib.pyplot as plt\n",
    "from glob import glob\n",
    "import numpy as np\n",
    "import seaborn as sns\n"
   ]
  },
  {
   "cell_type": "code",
   "execution_count": 7,
   "metadata": {},
   "outputs": [],
   "source": [
    "gru_loss_name = 'gru_lead1_stat2_loss.csv'\n",
    "lstm_loss_name = 'lstm_lead1_dyn1_loss.csv'\n",
    "ar_loss_name = 'ar_lead48_dyn2_loss.csv'"
   ]
  },
  {
   "attachments": {},
   "cell_type": "markdown",
   "metadata": {},
   "source": [
    "forecast lead 1"
   ]
  },
  {
   "cell_type": "code",
   "execution_count": 8,
   "metadata": {},
   "outputs": [
    {
     "name": "stdout",
     "output_type": "stream",
     "text": [
      "(33, 172)\n",
      "(27, 172)\n"
     ]
    }
   ],
   "source": [
    "columns_to_sum = ['test_loss', 'test_loss_true', 'test_mse', 'test_mae']\n",
    "clusters = ['WEBSTER', 'HIGH', 'TED', 'HAMILTON', 'RINCONADA', 'CAMBRIDGE', 'MPL', 'BRYANT']\n",
    "\n",
    "df_gru = pd.read_csv(\"../data/LossCSVs/\" + gru_loss_name, index_col=0)\n",
    "print(df_gru.shape)\n",
    "df_lstm = pd.read_csv(\"../data/LossCSVs/\" + lstm_loss_name, index_col=0)\n",
    "print(df_lstm.shape)\n"
   ]
  },
  {
   "cell_type": "code",
   "execution_count": 17,
   "metadata": {},
   "outputs": [
    {
     "name": "stderr",
     "output_type": "stream",
     "text": [
      "/var/folders/zw/yys6vm7506q010fwbsz_3djr0000gn/T/ipykernel_2342/573480410.py:1: SettingWithCopyWarning: \n",
      "A value is trying to be set on a copy of a slice from a DataFrame.\n",
      "Try using .loc[row_indexer,col_indexer] = value instead\n",
      "\n",
      "See the caveats in the documentation: https://pandas.pydata.org/pandas-docs/stable/user_guide/indexing.html#returning-a-view-versus-a-copy\n",
      "  df_gru['run_no'] = np.repeat(np.arange(1,5),8)\n"
     ]
    }
   ],
   "source": [
    "df_gru['run_no'] = np.repeat(np.arange(1,5),8)\n",
    "#df_lstm['run_no'] = np.repeat(np.arange(1,8),8)\n",
    "\n",
    "# We first sum each run, and then average across runs\n",
    "df_gru_agg = df_gru.groupby('run_no').mean()\n",
    "#f_lstm_agg = df_lstm.groupby('run_no').sum()"
   ]
  },
  {
   "cell_type": "code",
   "execution_count": 18,
   "metadata": {},
   "outputs": [
    {
     "name": "stdout",
     "output_type": "stream",
     "text": [
      "test_loss         0.46\n",
      "test_loss_true   -0.09\n",
      "test_mse          1.41\n",
      "test_mae          0.75\n",
      "dtype: float64\n",
      "test_loss         0.01\n",
      "test_loss_true    0.02\n",
      "test_mse          0.10\n",
      "test_mae          0.02\n",
      "dtype: float64\n"
     ]
    }
   ],
   "source": [
    "print(np.round(df_gru_agg[columns_to_sum].mean(),2))\n",
    "print(np.round(df_gru_agg[columns_to_sum].std(),2))"
   ]
  },
  {
   "cell_type": "code",
   "execution_count": 44,
   "metadata": {},
   "outputs": [
    {
     "name": "stdout",
     "output_type": "stream",
     "text": [
      "test_loss         6.84\n",
      "test_loss_true   -0.71\n",
      "test_mse          8.87\n",
      "test_mae          5.67\n",
      "dtype: float64\n",
      "test_loss         0.02\n",
      "test_loss_true    0.04\n",
      "test_mse          0.48\n",
      "test_mae          0.10\n",
      "dtype: float64\n"
     ]
    }
   ],
   "source": [
    "print(np.round(df_lstm_agg[columns_to_sum].mean(),2))\n",
    "print(np.round(df_lstm_agg[columns_to_sum].std(),2))"
   ]
  },
  {
   "attachments": {},
   "cell_type": "markdown",
   "metadata": {},
   "source": [
    "forecast lead 48"
   ]
  },
  {
   "cell_type": "code",
   "execution_count": 30,
   "metadata": {},
   "outputs": [
    {
     "name": "stdout",
     "output_type": "stream",
     "text": [
      "(56, 53)\n"
     ]
    },
    {
     "data": {
      "text/html": [
       "<div>\n",
       "<style scoped>\n",
       "    .dataframe tbody tr th:only-of-type {\n",
       "        vertical-align: middle;\n",
       "    }\n",
       "\n",
       "    .dataframe tbody tr th {\n",
       "        vertical-align: top;\n",
       "    }\n",
       "\n",
       "    .dataframe thead th {\n",
       "        text-align: right;\n",
       "    }\n",
       "</style>\n",
       "<table border=\"1\" class=\"dataframe\">\n",
       "  <thead>\n",
       "    <tr style=\"text-align: right;\">\n",
       "      <th></th>\n",
       "      <th>test_loss</th>\n",
       "      <th>test_loss_true</th>\n",
       "      <th>test_mse</th>\n",
       "      <th>test_mae</th>\n",
       "      <th>run_no</th>\n",
       "    </tr>\n",
       "    <tr>\n",
       "      <th>Name</th>\n",
       "      <th></th>\n",
       "      <th></th>\n",
       "      <th></th>\n",
       "      <th></th>\n",
       "      <th></th>\n",
       "    </tr>\n",
       "  </thead>\n",
       "  <tbody>\n",
       "    <tr>\n",
       "      <th>sunny-shape-467</th>\n",
       "      <td>1.118072</td>\n",
       "      <td>0.013835</td>\n",
       "      <td>2.201864</td>\n",
       "      <td>1.091379</td>\n",
       "      <td>1</td>\n",
       "    </tr>\n",
       "    <tr>\n",
       "      <th>hearty-darkness-466</th>\n",
       "      <td>1.453250</td>\n",
       "      <td>-0.078261</td>\n",
       "      <td>3.423576</td>\n",
       "      <td>1.339139</td>\n",
       "      <td>1</td>\n",
       "    </tr>\n",
       "    <tr>\n",
       "      <th>warm-vortex-465</th>\n",
       "      <td>1.284693</td>\n",
       "      <td>0.177268</td>\n",
       "      <td>1.560872</td>\n",
       "      <td>0.922951</td>\n",
       "      <td>1</td>\n",
       "    </tr>\n",
       "    <tr>\n",
       "      <th>silvery-breeze-464</th>\n",
       "      <td>0.617329</td>\n",
       "      <td>0.732744</td>\n",
       "      <td>2.409877</td>\n",
       "      <td>1.150609</td>\n",
       "      <td>1</td>\n",
       "    </tr>\n",
       "    <tr>\n",
       "      <th>comfy-wildflower-463</th>\n",
       "      <td>0.996154</td>\n",
       "      <td>0.939769</td>\n",
       "      <td>0.880992</td>\n",
       "      <td>0.774735</td>\n",
       "      <td>1</td>\n",
       "    </tr>\n",
       "    <tr>\n",
       "      <th>generous-galaxy-462</th>\n",
       "      <td>1.877385</td>\n",
       "      <td>-0.210363</td>\n",
       "      <td>9.958217</td>\n",
       "      <td>1.978139</td>\n",
       "      <td>1</td>\n",
       "    </tr>\n",
       "    <tr>\n",
       "      <th>lively-monkey-461</th>\n",
       "      <td>0.909120</td>\n",
       "      <td>0.835895</td>\n",
       "      <td>0.791044</td>\n",
       "      <td>0.749700</td>\n",
       "      <td>1</td>\n",
       "    </tr>\n",
       "    <tr>\n",
       "      <th>volcanic-serenity-460</th>\n",
       "      <td>1.483260</td>\n",
       "      <td>-0.487778</td>\n",
       "      <td>3.905221</td>\n",
       "      <td>1.380569</td>\n",
       "      <td>1</td>\n",
       "    </tr>\n",
       "    <tr>\n",
       "      <th>helpful-wildflower-459</th>\n",
       "      <td>1.170462</td>\n",
       "      <td>0.104843</td>\n",
       "      <td>2.998426</td>\n",
       "      <td>1.283635</td>\n",
       "      <td>2</td>\n",
       "    </tr>\n",
       "    <tr>\n",
       "      <th>lilac-totem-458</th>\n",
       "      <td>1.381494</td>\n",
       "      <td>-0.174161</td>\n",
       "      <td>2.448220</td>\n",
       "      <td>1.167118</td>\n",
       "      <td>2</td>\n",
       "    </tr>\n",
       "  </tbody>\n",
       "</table>\n",
       "</div>"
      ],
      "text/plain": [
       "                        test_loss  test_loss_true  test_mse  test_mae  run_no\n",
       "Name                                                                         \n",
       "sunny-shape-467          1.118072        0.013835  2.201864  1.091379       1\n",
       "hearty-darkness-466      1.453250       -0.078261  3.423576  1.339139       1\n",
       "warm-vortex-465          1.284693        0.177268  1.560872  0.922951       1\n",
       "silvery-breeze-464       0.617329        0.732744  2.409877  1.150609       1\n",
       "comfy-wildflower-463     0.996154        0.939769  0.880992  0.774735       1\n",
       "generous-galaxy-462      1.877385       -0.210363  9.958217  1.978139       1\n",
       "lively-monkey-461        0.909120        0.835895  0.791044  0.749700       1\n",
       "volcanic-serenity-460    1.483260       -0.487778  3.905221  1.380569       1\n",
       "helpful-wildflower-459   1.170462        0.104843  2.998426  1.283635       2\n",
       "lilac-totem-458          1.381494       -0.174161  2.448220  1.167118       2"
      ]
     },
     "execution_count": 30,
     "metadata": {},
     "output_type": "execute_result"
    }
   ],
   "source": [
    "df_ar_48 = pd.read_csv(\"../data/LossCSVs/\" + ar_loss_name, index_col=0)\n",
    "print(df_ar_48.shape)\n",
    "df_ar_48 = df_ar_48[columns_to_sum]\n",
    "df_ar_48['run_no'] = np.repeat(np.arange(1,8),8)\n",
    "df_ar_48.head(10)"
   ]
  },
  {
   "cell_type": "code",
   "execution_count": 33,
   "metadata": {},
   "outputs": [
    {
     "data": {
      "text/html": [
       "<div>\n",
       "<style scoped>\n",
       "    .dataframe tbody tr th:only-of-type {\n",
       "        vertical-align: middle;\n",
       "    }\n",
       "\n",
       "    .dataframe tbody tr th {\n",
       "        vertical-align: top;\n",
       "    }\n",
       "\n",
       "    .dataframe thead th {\n",
       "        text-align: right;\n",
       "    }\n",
       "</style>\n",
       "<table border=\"1\" class=\"dataframe\">\n",
       "  <thead>\n",
       "    <tr style=\"text-align: right;\">\n",
       "      <th></th>\n",
       "      <th>test_loss</th>\n",
       "      <th>test_loss_true</th>\n",
       "      <th>test_mse</th>\n",
       "      <th>test_mae</th>\n",
       "    </tr>\n",
       "  </thead>\n",
       "  <tbody>\n",
       "    <tr>\n",
       "      <th>mean</th>\n",
       "      <td>9.548014</td>\n",
       "      <td>1.679980</td>\n",
       "      <td>19.777939</td>\n",
       "      <td>8.816428</td>\n",
       "    </tr>\n",
       "    <tr>\n",
       "      <th>std</th>\n",
       "      <td>0.186763</td>\n",
       "      <td>0.236703</td>\n",
       "      <td>2.594258</td>\n",
       "      <td>0.382551</td>\n",
       "    </tr>\n",
       "  </tbody>\n",
       "</table>\n",
       "</div>"
      ],
      "text/plain": [
       "      test_loss  test_loss_true   test_mse  test_mae\n",
       "mean   9.548014        1.679980  19.777939  8.816428\n",
       "std    0.186763        0.236703   2.594258  0.382551"
      ]
     },
     "execution_count": 33,
     "metadata": {},
     "output_type": "execute_result"
    }
   ],
   "source": [
    "df_ar_48.groupby('run_no').sum().agg(['mean', 'std'])"
   ]
  }
 ],
 "metadata": {
  "kernelspec": {
   "display_name": "base",
   "language": "python",
   "name": "python3"
  },
  "language_info": {
   "codemirror_mode": {
    "name": "ipython",
    "version": 3
   },
   "file_extension": ".py",
   "mimetype": "text/x-python",
   "name": "python",
   "nbconvert_exporter": "python",
   "pygments_lexer": "ipython3",
   "version": "3.9.5"
  },
  "orig_nbformat": 4
 },
 "nbformat": 4,
 "nbformat_minor": 2
}

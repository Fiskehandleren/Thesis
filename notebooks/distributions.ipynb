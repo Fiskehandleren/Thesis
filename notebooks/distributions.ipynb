{
 "cells": [
  {
   "cell_type": "code",
   "execution_count": null,
   "metadata": {},
   "outputs": [],
   "source": [
    "import pandas as pd\n",
    "import matplotlib.pyplot as plt\n",
    "from scipy.stats import kstest, expon, gamma, erlang, ks_2samp\n",
    "from fitter import Fitter, get_common_distributions\n",
    "import numpy as np"
   ]
  },
  {
   "attachments": {},
   "cell_type": "markdown",
   "metadata": {},
   "source": [
    "# Service Times"
   ]
  },
  {
   "cell_type": "code",
   "execution_count": null,
   "metadata": {},
   "outputs": [],
   "source": [
    "df = pd.read_csv(\"../data/ChargePoint Data CY20Q4_fixed_dates.csv\", index_col=0)\n",
    "df = df[df['End Date'] >= '2019-01-01']\n",
    "df"
   ]
  },
  {
   "cell_type": "code",
   "execution_count": null,
   "metadata": {},
   "outputs": [],
   "source": [
    "print(\"Median: \", df[\"Total Duration (min)\"].median())\n",
    "df[\"Total Duration (min)\"].describe()"
   ]
  },
  {
   "cell_type": "code",
   "execution_count": null,
   "metadata": {},
   "outputs": [],
   "source": [
    "df[\"Total Duration (min)\"].hist(bins=50)"
   ]
  },
  {
   "cell_type": "code",
   "execution_count": null,
   "metadata": {},
   "outputs": [],
   "source": [
    "df = df[df[\"Total Duration (min)\"] < 1000]\n",
    "df[\"Total Duration (min)\"].hist(bins=50)"
   ]
  },
  {
   "cell_type": "code",
   "execution_count": null,
   "metadata": {},
   "outputs": [],
   "source": [
    "rsv = df[df.Cluster == \"BRYANT\"][\"Total Duration (min)\"].values"
   ]
  },
  {
   "cell_type": "code",
   "execution_count": null,
   "metadata": {},
   "outputs": [],
   "source": [
    "fig, axs = plt.subplots(1, 2, figsize=(10, 5))\n",
    "# cdf = expon.rvs(size=len(rsv), scale=rsv.mean())\n",
    "cdf = gamma.rvs(a=1.5, size=len(rsv), scale=rsv.mean())\n",
    "\n",
    "axs[0].hist(rsv[rsv < 1250], bins=100, label=\"Real\", alpha=0.5, density=True)\n",
    "axs[0].legend()\n",
    "axs[1].hist(cdf[cdf < 1250], bins=100, label=\"gamma\", alpha=0.5, density=True)\n",
    "axs[1].legend()\n",
    "plt.show()\n",
    "kstest(rsv, cdf)"
   ]
  },
  {
   "cell_type": "code",
   "execution_count": null,
   "metadata": {},
   "outputs": [],
   "source": [
    "f = Fitter(\n",
    "    rsv, \n",
    "    timeout=10000, \n",
    "    distributions=get_common_distributions()  + [\"erlang\", \"beta\"],\n",
    "    xmax=1000,\n",
    "    )\n",
    "f.fit(max_workers=8)\n",
    "f.summary(Nbest=12)\n",
    "f.get_best(method = 'sumsquare_error')\n"
   ]
  },
  {
   "cell_type": "code",
   "execution_count": null,
   "metadata": {},
   "outputs": [],
   "source": [
    "from scipy.stats import fit \n",
    "\n",
    "fig, axs = plt.subplots(1, 3, figsize=(12, 5))\n",
    "# Exponential\n",
    "bounds = [(0, 1000), (0, 1000)]\n",
    "res_exp = fit(expon, rsv, bounds=bounds)\n",
    "res_exp.plot(ax=axs[0])\n",
    "print(\"Exponential params\", res_exp.params)\n",
    "\n",
    "# Gamma\n",
    "bounds = [(0, 1000), (0, 1000), (0, 1000)]\n",
    "res_gamma = fit(gamma, rsv, bounds=bounds)\n",
    "res_gamma.plot(ax=axs[1])\n",
    "print(\"Gamma params\", res_gamma.params)\n",
    "\n",
    "# Erlang \n",
    "bounds = [(0, 1000), (0, 1000), (0, 1000)]\n",
    "res_erlang = fit(erlang, rsv, bounds=bounds)\n",
    "res_erlang.plot(ax=axs[2])\n",
    "print(\"Erlang params\", res_erlang.params)\n"
   ]
  },
  {
   "cell_type": "code",
   "execution_count": null,
   "metadata": {},
   "outputs": [],
   "source": [
    "fig, axs = plt.subplots(1, 3, figsize=(15, 5))\n",
    "# cdf = expon.rvs(size=len(rsv), scale=rsv.mean())\n",
    "cdf_gamma = gamma.rvs(a=res_gamma.params.a, size=len(rsv), scale=res_gamma.params.scale)\n",
    "\n",
    "axs[1].hist(rsv[rsv < 1000], bins=100, label=\"Real\", alpha=0.5, density=True)\n",
    "axs[1].hist(cdf_gamma[cdf_gamma < 1000], bins=100, label=\"gamma\", alpha=0.5, density=True)\n",
    "axs[1].legend()\n",
    "cdf_erlang = erlang.rvs(a=res_erlang.params.a, size=len(rsv), scale=res_erlang.params.scale)\n",
    "axs[2].hist(rsv[rsv < 1000], bins=100, label=\"Real\", alpha=0.5, density=True)\n",
    "axs[2].hist(cdf_erlang[cdf_erlang < 1000], bins=100, label=\"erlang\", alpha=0.5, density=True)\n",
    "axs[2].legend()\n",
    "\n",
    "cdf_expon = expon.rvs(size=len(rsv), scale=res_exp.params.scale)\n",
    "axs[0].hist(rsv[rsv < 1000], bins=100, label=\"Real\", alpha=0.5, density=True)\n",
    "axs[0].hist(cdf_expon[cdf_expon < 1000], bins=100, label=\"expon\", alpha=0.5, density=True)\n",
    "axs[0].legend()\n",
    "plt.show()\n",
    "print(ks_2samp(rsv[rsv < 1000], cdf_gamma))\n",
    "print(ks_2samp(rsv[rsv < 1000], cdf_erlang))\n",
    "print(ks_2samp(rsv[rsv < 1000], cdf_expon))\n",
    "\n"
   ]
  },
  {
   "attachments": {},
   "cell_type": "markdown",
   "metadata": {},
   "source": [
    "# Distribution of number of sessions per time unit "
   ]
  },
  {
   "cell_type": "code",
   "execution_count": null,
   "metadata": {},
   "outputs": [],
   "source": [
    "df_sessions = pd.read_csv('../data/charging_session_count_1_to_30_censored_1.csv')\n",
    "df_sessions = df_sessions[df_sessions['Period'] >= '2019-01-01']"
   ]
  },
  {
   "cell_type": "code",
   "execution_count": null,
   "metadata": {},
   "outputs": [],
   "source": [
    "df_sessions['DayOfWeek'] = df_sessions['Period'].apply(lambda x: pd.to_datetime(x).dayofweek)\n",
    "df_sessions['Time'] = df_sessions['Period'].apply(lambda x: pd.to_datetime(x).time())\n",
    "df_sessions['Hour'] = df_sessions['Period'].apply(lambda x: pd.to_datetime(x).hour)\n",
    "df_sessions.head()"
   ]
  },
  {
   "cell_type": "code",
   "execution_count": null,
   "metadata": {},
   "outputs": [],
   "source": [
    "import ipywidgets as widgets\n",
    "import pandas as pd\n",
    "import matplotlib.pyplot as plt\n",
    "\n",
    "day_of_week_list = ['Monday', 'Tuesday', 'Wednesday', 'Thursday', 'Friday', 'Saturday', 'Sunday']\n",
    "\n",
    "def plot_histogram(time, day_of_week):\n",
    "    fig, axs = plt.subplots(figsize=(7, 5))\n",
    "    time_specific_df = df_sessions[(df_sessions['DayOfWeek'] == day_of_week) & (df_sessions['Time'] == pd.to_datetime(time).time())]\n",
    "    bins = range(0, int(time_specific_df['BRYANT_TRUE'].max()) + 2)\n",
    "    axs.hist(time_specific_df['BRYANT_TRUE'], density=True, edgecolor='black', linewidth=1.2, bins=list(bins))\n",
    "    # make x axis integer\n",
    "    axs.xaxis.set_major_locator(plt.MaxNLocator(integer=True))\n",
    "    axs.set_title(f'Session Count Distribution on {day_of_week_list[day_of_week]} {time}')\n",
    "    plt.show()\n",
    "\n",
    "time_intervals = [f'{hour:02d}:{minute:02d}' for hour in range(24) for minute in [0, 30]]\n",
    "time_widget = widgets.SelectionSlider(\n",
    "    options=time_intervals,\n",
    "    value='08:00',\n",
    "    description='Time:',\n",
    "    disabled=False,\n",
    "    continuous_update=True,\n",
    ")\n",
    "\n",
    "day_of_week_intervals = list(range(7))\n",
    "day_of_week_widget = widgets.SelectionSlider(\n",
    "    options=day_of_week_intervals,\n",
    "    value=0,\n",
    "    description='Day of week:',\n",
    "    disabled=False,\n",
    "    continuous_update=True,\n",
    ")\n",
    "\n",
    "widgets.interact(plot_histogram, time=time_widget, day_of_week=day_of_week_widget)"
   ]
  },
  {
   "cell_type": "code",
   "execution_count": null,
   "metadata": {},
   "outputs": [],
   "source": [
    "import ipywidgets as widgets\n",
    "import pandas as pd\n",
    "import matplotlib.pyplot as plt\n",
    "\n",
    "day_of_week_list = ['Monday', 'Tuesday', 'Wednesday', 'Thursday', 'Friday', 'Saturday', 'Sunday']\n",
    "\n",
    "def plot_histogram_hour(hour, day_of_week):\n",
    "    fig, axs = plt.subplots(figsize=(12, 8))\n",
    "    time_specific_df = df_sessions[(df_sessions['DayOfWeek'] == day_of_week) & (df_sessions['Hour'] == hour)]\n",
    "    bins = range(0, int(time_specific_df['BRYANT_TRUE'].max()) + 2)\n",
    "    axs.hist(time_specific_df['BRYANT_TRUE'], density=True, edgecolor='black', linewidth=1.2, bins=list(bins))\n",
    "    # make x axis integer\n",
    "    axs.xaxis.set_major_locator(plt.MaxNLocator(integer=True))\n",
    "    axs.set_title(f'Session Count Distribution on {day_of_week_list[day_of_week]} {hour}')\n",
    "    plt.show()\n",
    "\n",
    "hour_intervals = list(range(24))# [f'{hour:1d}' for hour in range(24)]\n",
    "hour_widget = widgets.SelectionSlider(\n",
    "    options=hour_intervals,\n",
    "    value=0,\n",
    "    description='Hour:',\n",
    "    disabled=False,\n",
    "    continuous_update=True,\n",
    ")\n",
    "\n",
    "day_of_week_intervals = list(range(7))\n",
    "day_of_week_widget = widgets.SelectionSlider(\n",
    "    options=day_of_week_intervals,\n",
    "    value=0,\n",
    "    description='Day of week:',\n",
    "    disabled=False,\n",
    "    continuous_update=True,\n",
    ")\n",
    "\n",
    "widgets.interact(plot_histogram_hour, hour=hour_widget, day_of_week=day_of_week_widget)"
   ]
  },
  {
   "cell_type": "code",
   "execution_count": null,
   "metadata": {},
   "outputs": [],
   "source": [
    "# Find first non-zero\n",
    "df_sessions[\"BRYANT_TRUE\"].hist(edgecolor='black', density=True)"
   ]
  },
  {
   "cell_type": "code",
   "execution_count": null,
   "metadata": {},
   "outputs": [],
   "source": [
    "# Find first non-zero\n",
    "df_sessions[\"BRYANT_TRUE\"].hist(edgecolor='black', density=True)"
   ]
  },
  {
   "cell_type": "code",
   "execution_count": null,
   "metadata": {},
   "outputs": [],
   "source": [
    "from scipy.optimize import curve_fit\n",
    "from scipy.stats import poisson\n",
    "import numpy as np"
   ]
  },
  {
   "cell_type": "code",
   "execution_count": null,
   "metadata": {},
   "outputs": [],
   "source": [
    "# get poisson deviated random numbers\n",
    "# data = np.random.poisson(2, 1000)\n",
    "data = df_sessions[\"BRYANT_TRUE\"].values\n",
    "# the bins should be of integer width, because poisson is an integer distribution\n",
    "bins = np.arange(df_sessions[\"BRYANT_TRUE\"].max()+1) - 0.5\n",
    "entries, bin_edges, patches = plt.hist(data, bins=bins, density=True, label='Data', edgecolor='black')\n",
    "\n",
    "# calculate bin centers\n",
    "bin_centers = 0.5 * (bin_edges[1:] + bin_edges[:-1])\n",
    "\n",
    "\n",
    "def fit_function(k, lamb):\n",
    "    '''poisson function, parameter lamb is the fit parameter'''\n",
    "    return poisson.pmf(k, lamb)\n",
    "\n",
    "# fit with curve_fit\n",
    "parameters, cov_matrix = curve_fit(fit_function, bin_centers, entries)\n",
    "print(parameters)\n",
    "# plot poisson-deviation with fitted parameter\n",
    "x_plot = np.arange(0, data.max())\n",
    "\n",
    "plt.plot(\n",
    "    x_plot,\n",
    "    fit_function(x_plot, *parameters),\n",
    "    marker='o', linestyle='',\n",
    "    label='Poisson fit result $\\lambda=%.2f$' % parameters[0],\n",
    ")\n",
    "plt.legend()\n",
    "plt.show()"
   ]
  },
  {
   "cell_type": "code",
   "execution_count": null,
   "metadata": {},
   "outputs": [],
   "source": [
    "kstest(data, poisson.cdf, args=(parameters,))"
   ]
  },
  {
   "cell_type": "code",
   "execution_count": null,
   "metadata": {},
   "outputs": [],
   "source": [
    "parameters"
   ]
  },
  {
   "attachments": {},
   "cell_type": "markdown",
   "metadata": {},
   "source": [
    "### Plots for section Methodology > Descriptive analysis"
   ]
  },
  {
   "cell_type": "code",
   "execution_count": null,
   "metadata": {},
   "outputs": [],
   "source": [
    "observed_values = ['BRYANT_TRUE','CAMBRIDGE_TRUE','HAMILTON_TRUE','HIGH_TRUE','MPL_TRUE','RINCONADA_TRUE','TED_TRUE','WEBSTER_TRUE']\n",
    "df_true_sessions = df_sessions[['BRYANT_TRUE','CAMBRIDGE_TRUE','HAMILTON_TRUE','HIGH_TRUE','MPL_TRUE','RINCONADA_TRUE','TED_TRUE','WEBSTER_TRUE', 'DayOfWeek', 'Hour', 'Period']]\n",
    "df_hourly_sessions = df_true_sessions.groupby('Hour').median().reset_index(drop = False)\n",
    "df_week_hourly_sessions = df_true_sessions.groupby('DayOfWeek', 'Hour').median().reset_index(drop = False)"
   ]
  },
  {
   "cell_type": "code",
   "execution_count": null,
   "metadata": {},
   "outputs": [],
   "source": [
    "df_hourly_sessions[observed_values].plot()"
   ]
  },
  {
   "cell_type": "code",
   "execution_count": null,
   "metadata": {},
   "outputs": [],
   "source": []
  }
 ],
 "metadata": {
  "kernelspec": {
   "display_name": "thesis",
   "language": "python",
   "name": "python3"
  },
  "language_info": {
   "codemirror_mode": {
    "name": "ipython",
    "version": 3
   },
   "file_extension": ".py",
   "mimetype": "text/x-python",
   "name": "python",
   "nbconvert_exporter": "python",
   "pygments_lexer": "ipython3",
   "version": "3.9.5"
  },
  "orig_nbformat": 4
 },
 "nbformat": 4,
 "nbformat_minor": 2
}

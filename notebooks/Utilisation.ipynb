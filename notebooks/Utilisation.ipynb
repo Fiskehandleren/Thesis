{
 "cells": [
  {
   "attachments": {},
   "cell_type": "markdown",
   "metadata": {},
   "source": [
    "# Utilisation Visualizations"
   ]
  },
  {
   "cell_type": "code",
   "execution_count": null,
   "metadata": {},
   "outputs": [],
   "source": [
    "import pandas as pd\n",
    "import matplotlib.pyplot as plt\n",
    "import os\n",
    "from glob import glob\n",
    "plt.style.use('ggplot')\n",
    "\n",
    "# Use colormap='tab10'\n",
    "plt.set_cmap('tab10')"
   ]
  },
  {
   "cell_type": "code",
   "execution_count": null,
   "metadata": {},
   "outputs": [],
   "source": [
    "PLUGS_PER_CLUSTER = {\n",
    "    'WEBSTER': 6,\n",
    "    'BRYANT': 9,\n",
    "    'HIGH': 8,\n",
    "    'HAMILTON': 3,\n",
    "    'CAMBRIDGE': 10,\n",
    "    'MPL': 6,\n",
    "    'RINCONADA': 3,\n",
    "    'TED': 8\n",
    "}"
   ]
  },
  {
   "attachments": {},
   "cell_type": "markdown",
   "metadata": {},
   "source": [
    "## Data preprocessing"
   ]
  },
  {
   "attachments": {},
   "cell_type": "markdown",
   "metadata": {},
   "source": [
    "### Define which cluster and model to use"
   ]
  },
  {
   "cell_type": "code",
   "execution_count": null,
   "metadata": {},
   "outputs": [],
   "source": [
    "CLUSTER = \"HAMILTON\"\n",
    "model = 'TGCN'"
   ]
  },
  {
   "attachments": {},
   "cell_type": "markdown",
   "metadata": {},
   "source": [
    "### Load predictions by models trained on censoring strategies"
   ]
  },
  {
   "cell_type": "code",
   "execution_count": null,
   "metadata": {},
   "outputs": [],
   "source": [
    "def add_censoring_strategy_predictions(df=None, censoring_level=1, censoring_strategy=\"Static\", keep_obs=False, prefix='best_sweep'):\n",
    "    directory_path = f\"../predictions/{prefix}_{model.lower()}_{censoring_strategy.lower()}_{censoring_level}\"\n",
    "    if not os.path.exists(directory_path):\n",
    "        raise NotADirectoryError(directory_path)\n",
    "\n",
    "    preds_path = glob(f\"{directory_path}/predictions_{model}_{CLUSTER}*.csv\")[0] \n",
    "    df_preds = pd.read_csv(preds_path, parse_dates=[\"Date\"], index_col=0)\n",
    "\n",
    "    # Because we HAD a bug of double predictions being generated\n",
    "    df_preds.dropna(inplace=True, how='all')\n",
    "\n",
    "    # Assume we have forecast horizon of 1. Then we rename the columns to something more readable\n",
    "    df_preds.rename(columns={\n",
    "        CLUSTER+\"_1\": f\"Censored Observations {censoring_strategy} {censoring_level}\",\n",
    "        CLUSTER+\"_1_pred\": f\"Predicted {censoring_strategy} {censoring_level}\",\n",
    "        f\"{CLUSTER}_1_true\": \"True Observations\"\n",
    "    }, inplace=True)\n",
    "\n",
    "    df_preds[\"No. Plugs per Hub\"] = PLUGS_PER_CLUSTER[CLUSTER]\n",
    "\n",
    "    if not keep_obs:\n",
    "        df_preds = df_preds.drop([\"True Observations\", \"No. Plugs per Hub\"], axis=1)\n",
    "\n",
    "    if df is None:\n",
    "        return df_preds\n",
    "    return df.merge(df_preds, on=\"Date\")"
   ]
  },
  {
   "attachments": {},
   "cell_type": "markdown",
   "metadata": {},
   "source": [
    "### Visualization functions"
   ]
  },
  {
   "cell_type": "code",
   "execution_count": null,
   "metadata": {},
   "outputs": [],
   "source": [
    "get_relevant_cols = lambda censoring_level, censoring_strategy: [\n",
    "        'Date', 'No. Plugs per Hub', \"True Observations\",\n",
    "        f\"Censored Observations {censoring_strategy} {censoring_level}\", f\"Predicted {censoring_strategy} {censoring_level}\"]\n",
    "\n",
    "def plot_predictions(df, censoring_level, censoring_strategy):\n",
    "    # Keep only relevant columns\n",
    "    df_plot = df.copy()[get_relevant_cols(censoring_level, censoring_strategy)]\n",
    "    fig, ax = plt.subplots(figsize=(15, 7))\n",
    "    ax.axhline(y=df_plot[df_plot.Date < '2019-05-30'][f'Censored Observations {censoring_strategy} {censoring_level}'].max(), linestyle='--', label='Censored Threshold', color='black', )\n",
    "    df_plot[df_plot.Date < '2019-05-30']\\\n",
    "        .drop('No. Plugs per Hub', axis=1)\\\n",
    "        .drop(f\"Censored Observations {censoring_strategy} {censoring_level}\", axis=1)\\\n",
    "        .plot(x=\"Date\", ax=ax, title=f\"{model} Predictions for {CLUSTER} cluster with censoring strategy {censoring_strategy} {censoring_level}\", ylabel='Number of sessions', colormap='tab10')\n",
    "\n",
    "    # Set horizontal line at the maximum number of plugs\n",
    "    ax.legend()\n",
    "    fig.savefig(f\"../Figures/prediction_timeseries_{model}_{CLUSTER}_{censoring_strategy}_{censoring_level}.png\")\n",
    "    plt.show()"
   ]
  },
  {
   "cell_type": "code",
   "execution_count": null,
   "metadata": {},
   "outputs": [],
   "source": [
    "def plot_daily_max_sessions(df, censoring_level, censoring_strategy):\n",
    "    df_plot = df.copy()[get_relevant_cols(censoring_level, censoring_strategy)]\n",
    "    # Plot the highest prediction for each day, together with the highest recorded simultaneous number of sessions in a time interval\n",
    "    fig, ax = plt.subplots(figsize=(20, 7))\n",
    "    ax.axhline(y=df_plot[df_plot.Date < '2019-05-30'][f'Censored Observations {censoring_strategy} {censoring_level}'].max(), linestyle='--', label='Censored Threshold', color='black', )\n",
    "    df_plot\\\n",
    "        .drop('No. Plugs per Hub', axis=1) \\\n",
    "        .drop(f\"Censored Observations {censoring_strategy} {censoring_level}\", axis=1) \\\n",
    "        .groupby(df_plot[\"Date\"].dt.date).max() \\\n",
    "        .plot(x=\"Date\", ax=ax, title=f\"Max number of sessions for each day in cluster {CLUSTER}\", colormap='tab10')\n",
    "    ax.set_title(f\"Max number of sessions for each day in cluster {CLUSTER}\")\n",
    "    ax.set_ylabel(\"Number of sessions\")\n",
    "    plt.show()"
   ]
  },
  {
   "cell_type": "code",
   "execution_count": null,
   "metadata": {},
   "outputs": [],
   "source": [
    "def plot_utilisation_per_day(df, censoring_level, censoring_strategy):\n",
    "    df_util_plot = df.copy()\n",
    "    cols = get_relevant_cols(censoring_level, censoring_strategy)\n",
    "    cols.remove('Date')\n",
    "    cols.remove('No. Plugs per Hub')\n",
    "    # We should provide tau from the model training\n",
    "    for col in cols:\n",
    "        df_util_plot['tau_'+col] = df_util_plot[col].max()\n",
    "\n",
    "    sessions_per_day = df_util_plot.groupby(df_util_plot[\"Date\"].dt.date).sum().copy()\n",
    "\n",
    "    # Calculate utilisation\n",
    "    for col in cols:\n",
    "        sessions_per_day['utilisation_'+col] = sessions_per_day[col] / sessions_per_day['No. Plugs per Hub']\n",
    "    # drop all tau columns\n",
    "    sessions_per_day = sessions_per_day[sessions_per_day.columns[sessions_per_day.columns.str.startswith('utilisation_')]]\n",
    "    # remove utilisation_ from the column names\n",
    "    sessions_per_day.columns = sessions_per_day.columns.str.replace('utilisation_', '')\n",
    "    fig, ax = plt.subplots(figsize=(15, 5))\n",
    "    sessions_per_day.plot(ax=ax, colormap='tab10')\n",
    "\n",
    "    ax.set_title(f\"Utilisation per day in cluster {CLUSTER}\")\n",
    "    ax.set_ylabel(\"Utilisation\")\n",
    "    fig.savefig(f\"../Figures/daily_utilisation_{model}_{CLUSTER}_{censoring_strategy}_{censoring_level}.png\")"
   ]
  },
  {
   "attachments": {},
   "cell_type": "markdown",
   "metadata": {},
   "source": [
    "### Utilisation functions"
   ]
  },
  {
   "cell_type": "code",
   "execution_count": null,
   "metadata": {},
   "outputs": [],
   "source": [
    "def calculate_utility(df, max_tau, censoring_level, censoring_strategy, mean=True):\n",
    "    \"\"\" \n",
    "    Calulcate the utility for a given cluster, given predictions, censored and true values of usage, for taus from 1 - max_tau.\n",
    "    \"\"\"\n",
    "    cols = get_relevant_cols(censoring_level, censoring_strategy)\n",
    "    cols.remove('Date')\n",
    "    cols.remove('No. Plugs per Hub')\n",
    "    util_values = {level: [] for level in cols}\n",
    "    # calculate the utility for predicted usage, true usage and censored usage, for each tau\n",
    "    for level, util_list in util_values.items():\n",
    "        for tau_hypothetical in range(1, max_tau + 1):\n",
    "            df_util = df.copy()\n",
    "            # clip the values to the hypothetical tau (we use values from df instead of df_util to avoid clipping the values multiple times)\n",
    "            df_util[level] = df[level].clip(upper=tau_hypothetical)\n",
    "            # add the tau_hypothetical as a column\n",
    "            df_util[f'tau_{tau_hypothetical}'] = tau_hypothetical\n",
    "            # Sum the half-hourly values to get the daily values\n",
    "            tmp = df_util.groupby(df_util[\"Date\"].dt.date)[[level, f'tau_{tau_hypothetical}']].sum()\n",
    "            # calculate the utility per day\n",
    "            tmp['utilisation'] = (tmp[level] / tmp[f'tau_{tau_hypothetical}'])\n",
    "            # add the mean utility to the list\n",
    "            if mean:\n",
    "                util_list.append(tmp['utilisation'].mean())\n",
    "            else:\n",
    "                util_list.append(tmp['utilisation'].std())\n",
    "\n",
    "    return util_values"
   ]
  },
  {
   "cell_type": "code",
   "execution_count": null,
   "metadata": {},
   "outputs": [],
   "source": [
    "def plot_utility(df, max_tau, censoring_level, censoring_strategy, ax=None, plot_std=False):\n",
    "    utility_values = calculate_utility(df, max_tau, censoring_level, censoring_strategy)\n",
    "    if plot_std:\n",
    "        utility_values_std = calculate_utility(df, max_tau, censoring_level, censoring_strategy, mean=False)\n",
    "        df_utilisation_std = pd.DataFrame(utility_values_std)\n",
    "        df_utilisation_std['Capacity'] = df_utilisation_std.index + 1\n",
    "    \n",
    "    df_utilisation = pd.DataFrame(utility_values)\n",
    "    df_utilisation['Capacity'] = df_utilisation.index + 1\n",
    "    capacity = df['No. Plugs per Hub'].max()\n",
    "    if ax is None:\n",
    "        fig, ax = plt.subplots(figsize=(12, 7), sharey=True)\n",
    "        # Only plot true observations if nothing else is plotted yet\n",
    "        # Plot observed demand\n",
    "        line, =  ax.plot(\n",
    "            df_utilisation[df_utilisation.Capacity <= capacity]['Capacity'],\n",
    "            df_utilisation[df_utilisation.Capacity <= capacity][\"True Observations\"],\n",
    "            linestyle='-', marker='o', label=\"True demand\"\n",
    "        )\n",
    "        color = line.get_color()\n",
    "        ax.plot(\n",
    "            df_utilisation[df_utilisation.Capacity >= capacity]['Capacity'],\n",
    "            df_utilisation[df_utilisation.Capacity >= capacity][\"True Observations\"],\n",
    "            linestyle='dashed', marker='o', color=color, alpha=0.5\n",
    "        )\n",
    "        fig.suptitle(f\"{model} Predicted vs observed utilisation for cluster {CLUSTER} for different capacities\")\n",
    "\n",
    "    # Might change if the censoring level is string\n",
    "    predicted_col_name = f\"Predicted {censoring_strategy} {censoring_level}\"\n",
    "    if isinstance(censoring_level, str):\n",
    "        censoring_level = int(censoring_level[0])\n",
    "    max_observed_by_model = 0\n",
    "    if censoring_strategy == \"Dynamic\":\n",
    "        max_observed_by_model = capacity - censoring_level\n",
    "    else:\n",
    "        max_observed_by_model = censoring_level\n",
    "\n",
    "    # Plot predicted demand\n",
    "    \n",
    "    line, = ax.plot(\n",
    "        df_utilisation[df_utilisation.Capacity <= max_observed_by_model]['Capacity'],\n",
    "        df_utilisation[df_utilisation.Capacity <= max_observed_by_model][predicted_col_name],\n",
    "        linestyle='-', marker='o', label=f\"Predicted demand {censoring_strategy} {censoring_level}\"\n",
    "    )\n",
    "    color = line.get_color()\n",
    "    ax.plot(\n",
    "        df_utilisation[df_utilisation.Capacity >= max_observed_by_model]['Capacity'],\n",
    "        df_utilisation[df_utilisation.Capacity >= max_observed_by_model][predicted_col_name],\n",
    "        linestyle='dashed', marker='o', color=color, alpha=0.5\n",
    "    )\n",
    "    if plot_std:\n",
    "        ax.fill_between(\n",
    "            df_utilisation[df_utilisation.Capacity <= max_observed_by_model]['Capacity'],\n",
    "            df_utilisation[df_utilisation.Capacity <= max_observed_by_model][predicted_col_name] - df_utilisation_std[df_utilisation_std.Capacity <= max_observed_by_model][predicted_col_name],\n",
    "            df_utilisation[df_utilisation.Capacity <= max_observed_by_model][predicted_col_name] + df_utilisation_std[df_utilisation_std.Capacity <= max_observed_by_model][predicted_col_name],\n",
    "            alpha=0.2, \n",
    "            color=line.get_color()\n",
    "        )\n",
    "        ax.fill_between(\n",
    "            df_utilisation[df_utilisation.Capacity >= max_observed_by_model]['Capacity'],\n",
    "            df_utilisation[df_utilisation.Capacity >= max_observed_by_model][predicted_col_name] - df_utilisation_std[df_utilisation_std.Capacity >= max_observed_by_model][predicted_col_name],\n",
    "            df_utilisation[df_utilisation.Capacity >= max_observed_by_model][predicted_col_name] + df_utilisation_std[df_utilisation_std.Capacity >= max_observed_by_model][predicted_col_name],\n",
    "            alpha=0.2, color=color\n",
    "        )\n",
    "\n",
    "    ax.set_xlabel(\"Capacity\")\n",
    "    ax.set_ylabel(\"Utilisation\")\n",
    "    ax.yaxis.set_tick_params(labelleft=True)\n",
    "    ax.legend()\n",
    "    return ax"
   ]
  },
  {
   "attachments": {},
   "cell_type": "markdown",
   "metadata": {},
   "source": [
    "### 30 min forecast lead"
   ]
  },
  {
   "attachments": {},
   "cell_type": "markdown",
   "metadata": {},
   "source": [
    "Load predictions"
   ]
  },
  {
   "cell_type": "code",
   "execution_count": null,
   "metadata": {},
   "outputs": [],
   "source": [
    "# Add the predictions for the different censoring strategies\n",
    "df = add_censoring_strategy_predictions(None, 2, \"Dynamic\", keep_obs=True).reset_index()\n",
    "df = add_censoring_strategy_predictions(df, 1, \"Dynamic\")\n",
    "df = add_censoring_strategy_predictions(df, 2, \"Static\")\n",
    "df = add_censoring_strategy_predictions(df, 3, \"Static\")\n",
    "\n",
    "df.head()"
   ]
  },
  {
   "cell_type": "code",
   "execution_count": null,
   "metadata": {},
   "outputs": [],
   "source": [
    "calculate_utility(df, 12, 3, 'Static')"
   ]
  },
  {
   "attachments": {},
   "cell_type": "markdown",
   "metadata": {},
   "source": [
    "Visualize the predictions made on test set"
   ]
  },
  {
   "cell_type": "code",
   "execution_count": null,
   "metadata": {},
   "outputs": [],
   "source": [
    "plot_predictions(df, 2, \"Dynamic\")"
   ]
  },
  {
   "attachments": {},
   "cell_type": "markdown",
   "metadata": {},
   "source": [
    "Max number of daily sessions"
   ]
  },
  {
   "cell_type": "code",
   "execution_count": null,
   "metadata": {},
   "outputs": [],
   "source": [
    "plot_daily_max_sessions(df, 2, \"Dynamic\")\n"
   ]
  },
  {
   "attachments": {},
   "cell_type": "markdown",
   "metadata": {},
   "source": [
    "Daily utilisation"
   ]
  },
  {
   "cell_type": "code",
   "execution_count": null,
   "metadata": {},
   "outputs": [],
   "source": [
    "plot_utilisation_per_day(df, 2, \"Dynamic\")"
   ]
  },
  {
   "attachments": {},
   "cell_type": "markdown",
   "metadata": {},
   "source": [
    "Predicted mean utilisation for each strategy and the actual utilisation"
   ]
  },
  {
   "cell_type": "code",
   "execution_count": null,
   "metadata": {},
   "outputs": [],
   "source": [
    "ax = plot_utility(df, 12, 1, \"Dynamic\")\n",
    "ax = plot_utility(df, 12, 2, \"Dynamic\", ax=ax)\n",
    "ax = plot_utility(df, 12, 2, \"Static\", ax=ax)\n",
    "ax = plot_utility(df, 12, 3, \"Static\", ax=ax)\n",
    "\n",
    "\n",
    "ax.axhline(y=0.2, linestyle='--', color='g', label=\"20% utilisation\")\n",
    "plt.legend()\n",
    "plt.show()"
   ]
  },
  {
   "attachments": {},
   "cell_type": "markdown",
   "metadata": {},
   "source": [
    "Once an EV-charging station is built, all costs are essentially fixed, so utilization is key to achieving efficiency. Still, even a quite low utilization is likely to result in lines at busy times. In practice, the stand-alone, fast-charger industry uses a 20% utilization as a rule of thumb. But if a charging station is utilized at more than this 20% threshold, the operator will likely look to expand capacity or, more likely, add another site nearby."
   ]
  },
  {
   "attachments": {},
   "cell_type": "markdown",
   "metadata": {},
   "source": [
    "### 24 hours forecast lead"
   ]
  },
  {
   "attachments": {},
   "cell_type": "markdown",
   "metadata": {},
   "source": [
    "Load predictions"
   ]
  },
  {
   "cell_type": "code",
   "execution_count": null,
   "metadata": {},
   "outputs": [],
   "source": [
    "df_48 = add_censoring_strategy_predictions(None, 2, \"Dynamic\", keep_obs=True, prefix=\"forecast_48\")\n",
    "df_48 = add_censoring_strategy_predictions(df_48, 1, \"Dynamic\", prefix=\"forecast_48\")\n",
    "df_48 = add_censoring_strategy_predictions(df_48, 2, \"Static\", prefix=\"forecast_48\")\n",
    "df_48 = add_censoring_strategy_predictions(df_48, 3, \"Static\", prefix=\"forecast_48\")\n",
    "\n",
    "df_48.head()"
   ]
  },
  {
   "attachments": {},
   "cell_type": "markdown",
   "metadata": {},
   "source": [
    "Max number of daily sessions"
   ]
  },
  {
   "cell_type": "code",
   "execution_count": null,
   "metadata": {},
   "outputs": [],
   "source": [
    "plot_daily_max_sessions(df_48.reset_index(), 2, \"Dynamic\")"
   ]
  },
  {
   "attachments": {},
   "cell_type": "markdown",
   "metadata": {},
   "source": [
    "Utilisation plot"
   ]
  },
  {
   "cell_type": "code",
   "execution_count": null,
   "metadata": {},
   "outputs": [],
   "source": [
    "ax = plot_utility(df_48.reset_index(), 12, 1, \"Dynamic\")\n",
    "ax = plot_utility(df_48.reset_index(), 12, 2, \"Dynamic\", ax=ax)\n",
    "ax = plot_utility(df_48.reset_index(), 12, 2, \"Static\", ax=ax)\n",
    "ax = plot_utility(df_48.reset_index(), 12, 3, \"Static\", ax=ax)\n",
    "\n",
    "\n",
    "ax.axhline(y=0.2, linestyle='--', color='g', label=\"20% utilisation\")\n",
    "plt.legend()\n",
    "plt.show()"
   ]
  },
  {
   "attachments": {},
   "cell_type": "markdown",
   "metadata": {},
   "source": [
    "### 24 hours forecast lead plotted together with unaware model"
   ]
  },
  {
   "cell_type": "code",
   "execution_count": null,
   "metadata": {},
   "outputs": [],
   "source": [
    "df_48.head()"
   ]
  },
  {
   "cell_type": "code",
   "execution_count": null,
   "metadata": {},
   "outputs": [],
   "source": [
    "df_48_unaware = add_censoring_strategy_predictions(None, 3, \"Static\", prefix=\"forecast_48_unaware\")\n",
    "# As we're not using a censored dataset\n",
    "df_48_unaware[\"True Observations\"] = df_48_unaware[\"Censored Observations Static 3\"]\n",
    "df_48_unaware[\"No. Plugs per Hub\"] = PLUGS_PER_CLUSTER[CLUSTER]\n",
    "# Merge plut data\n",
    "df_48_unaware.head()"
   ]
  },
  {
   "cell_type": "code",
   "execution_count": null,
   "metadata": {},
   "outputs": [],
   "source": []
  },
  {
   "cell_type": "code",
   "execution_count": null,
   "metadata": {},
   "outputs": [],
   "source": [
    "# Plot aware\n",
    "ax = plot_utility(df_48.reset_index(), 12, 3, \"Static\", plot_std=True)\n",
    "ax.lines[-2].set_label(\"Aware model Static 3\")\n",
    "# Plot unaware\n",
    "ax = plot_utility(df_48_unaware.reset_index(), 12, 3, \"Static\", ax=ax, plot_std=True)\n",
    "# Change label of the last plot\n",
    "ax.lines[-2].set_label(\"Unaware model Static 3\")\n",
    "ax.axhline(y=0.2, linestyle='--', color='g', label=\"20% utilisation\")\n",
    "plt.legend()\n",
    "plt.savefig(f\"../Figures/aware_vs_unaware_{CLUSTER}.png\", bbox_inches='tight')\n",
    "plt.show()"
   ]
  },
  {
   "cell_type": "code",
   "execution_count": null,
   "metadata": {},
   "outputs": [],
   "source": [
    "df_48_unaware.head()"
   ]
  },
  {
   "attachments": {},
   "cell_type": "markdown",
   "metadata": {},
   "source": [
    "Time series plot"
   ]
  },
  {
   "cell_type": "code",
   "execution_count": null,
   "metadata": {},
   "outputs": [],
   "source": [
    "import matplotlib.pyplot as plt\n",
    "\n",
    "fig, ax = plt.subplots(figsize=(15, 3))\n",
    "ax.set_title(f\"24 hour forecast lead predictions for {CLUSTER} cluster\")\n",
    "# define colormap\n",
    "cmap = plt.get_cmap(\"tab20\")\n",
    "\n",
    "max_date = '2019-04-29' # 2 weeks\n",
    "df_48_unaware_plot = df_48_unaware.copy().reset_index()\n",
    "df_48_unaware_plot = df_48_unaware_plot[df_48_unaware_plot.Date < max_date]\n",
    "\n",
    "df_48_aware_plot = df_48.copy().reset_index()\n",
    "df_48_aware_plot = df_48_aware_plot[df_48_aware_plot.Date < max_date]\n",
    "\n",
    "# Plot y=3\n",
    "plt.axhline(y=3, linestyle='--', color=cmap(0), label=\"Censor threshold\")\n",
    "\n",
    "plt.plot(df_48_aware_plot.Date, df_48_aware_plot[\"True Observations\"], color=cmap(1), label=\"True Observations\")\n",
    "plt.plot(df_48_aware_plot.Date, df_48_aware_plot[\"Predicted Static 3\"], color=cmap(2), label=\"Aware model\")\n",
    "# Plot unaware\n",
    "plt.plot(df_48_unaware_plot.Date, df_48_unaware_plot[\"Predicted Static 3\"], color=cmap(3), label=\"Unaware model\")\n",
    "\n",
    "# Set horizontal line at the maximum number of plugs\n",
    "ax.legend()\n",
    "plt.show()\n"
   ]
  },
  {
   "cell_type": "code",
   "execution_count": null,
   "metadata": {},
   "outputs": [],
   "source": [
    "# TODO: Make this for 12 hour and 30 min as well"
   ]
  },
  {
   "attachments": {},
   "cell_type": "markdown",
   "metadata": {},
   "source": [
    "## 24 hour vs 30 min forecast"
   ]
  },
  {
   "cell_type": "code",
   "execution_count": null,
   "metadata": {},
   "outputs": [],
   "source": [
    "df_24_vs_30 = add_censoring_strategy_predictions(None, 2, \"Dynamic\", keep_obs=True, prefix=\"uncertainty_1_forecast_1\")\n",
    "\n",
    "df_24_vs_30 = df_24_vs_30.add_suffix('_forecast_1')\n",
    "df_24_vs_30 = df_24_vs_30.rename(columns={'True Observations_forecast_1': 'True Observations'})\n",
    "df_24_vs_30 = add_censoring_strategy_predictions(df_24_vs_30, 2, \"Dynamic\", prefix=\"forecast_48_covariates\")\n",
    "df_24_vs_30[\"No. Plugs per Hub\"] = PLUGS_PER_CLUSTER[CLUSTER]\n",
    "\n",
    "df_24_vs_30.head()"
   ]
  },
  {
   "cell_type": "code",
   "execution_count": null,
   "metadata": {},
   "outputs": [],
   "source": [
    "fig, ax = plt.subplots(figsize=(15, 5))\n",
    "max_date = '2019-04-29' # 2 weeks\n",
    "df_24_vs_30_plot = df_24_vs_30.copy().reset_index()\n",
    "df_24_vs_30_plot = df_24_vs_30_plot[df_24_vs_30_plot.Date < max_date]\n",
    "\n",
    "\n",
    "plt.plot(\n",
    "    df_24_vs_30_plot.Date, df_24_vs_30_plot[\"No. Plugs per Hub\"] - 2, # Dynamic 2\n",
    "    linestyle='--', label=\"Censor threshold\") \n",
    "plt.plot(df_24_vs_30_plot.Date, df_24_vs_30_plot[\"True Observations\"], label=\"True Observations\")\n",
    "plt.plot(df_24_vs_30_plot.Date, df_24_vs_30_plot[\"Predicted Dynamic 2_forecast_1\"], label=\"30 min forecast\")\n",
    "plt.plot(df_24_vs_30_plot.Date, df_24_vs_30_plot[\"Predicted Dynamic 2\"], label=\"24 hour forecast forecast\")\n",
    "\n",
    "# Set horizontal line at the maximum number of plugs\n",
    "ax.legend()\n",
    "plt.show()"
   ]
  },
  {
   "cell_type": "code",
   "execution_count": null,
   "metadata": {},
   "outputs": [],
   "source": [
    "ax = plot_utility(df_48.reset_index(), 12, 2, \"Static\", plot_std=True)"
   ]
  },
  {
   "cell_type": "code",
   "execution_count": null,
   "metadata": {},
   "outputs": [],
   "source": []
  }
 ],
 "metadata": {
  "kernelspec": {
   "display_name": "thesis",
   "language": "python",
   "name": "python3"
  },
  "language_info": {
   "codemirror_mode": {
    "name": "ipython",
    "version": 3
   },
   "file_extension": ".py",
   "mimetype": "text/x-python",
   "name": "python",
   "nbconvert_exporter": "python",
   "pygments_lexer": "ipython3",
   "version": "3.10.9"
  },
  "orig_nbformat": 4
 },
 "nbformat": 4,
 "nbformat_minor": 2
}

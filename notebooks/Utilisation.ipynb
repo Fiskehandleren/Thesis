{
  "cells": [
    {
      "attachments": {},
      "cell_type": "markdown",
      "metadata": {},
      "source": [
        "# Utilisation Visualizations"
      ]
    },
    {
      "cell_type": "code",
      "execution_count": null,
      "metadata": {},
      "outputs": [],
      "source": [
        "import pandas as pd\n",
        "import matplotlib.pyplot as plt\n",
        "import os\n",
        "from glob import glob\n",
        "import numpy as np\n",
        "# plt.style.use('ggplot')\n",
        "plt.rcParams.update({\"axes.grid\": True, \"grid.alpha\": 0.5})\n",
        "\n",
        "plt.set_cmap('tab10')"
      ]
    },
    {
      "cell_type": "code",
      "execution_count": null,
      "metadata": {},
      "outputs": [],
      "source": [
        "SMALL_SIZE = 14\n",
        "MEDIUM_SIZE = 16\n",
        "BIGGER_SIZE = 18\n",
        "\n",
        "plt.rc('font', size=BIGGER_SIZE)          # controls default text sizes\n",
        "plt.rc('axes', titlesize=BIGGER_SIZE)     # fontsize of the axes title\n",
        "plt.rc('axes', labelsize=BIGGER_SIZE)    # fontsize of the x and y labels\n",
        "plt.rc('xtick', labelsize=BIGGER_SIZE)    # fontsize of the tick labels\n",
        "plt.rc('ytick', labelsize=BIGGER_SIZE)    # fontsize of the tick labels\n",
        "plt.rc('legend', fontsize=BIGGER_SIZE)    # legend fontsize\n",
        "plt.rc('figure', titlesize=BIGGER_SIZE)  # fontsize of the figure title"
      ]
    },
    {
      "cell_type": "code",
      "execution_count": null,
      "metadata": {},
      "outputs": [],
      "source": [
        "PLUGS_PER_CLUSTER = {\n",
        "    'WEBSTER': 6,\n",
        "    'BRYANT': 9,\n",
        "    'HIGH': 8,\n",
        "    'HAMILTON': 3,\n",
        "    'CAMBRIDGE': 10,\n",
        "    'MPL': 6,\n",
        "    'RINCONADA': 3,\n",
        "    'TED': 8\n",
        "}"
      ]
    },
    {
      "attachments": {},
      "cell_type": "markdown",
      "metadata": {},
      "source": [
        "## Data preprocessing"
      ]
    },
    {
      "attachments": {},
      "cell_type": "markdown",
      "metadata": {},
      "source": [
        "### Define which cluster and model to use"
      ]
    },
    {
      "cell_type": "code",
      "execution_count": null,
      "metadata": {},
      "outputs": [],
      "source": [
        "model = 'TGCN'"
      ]
    },
    {
      "attachments": {},
      "cell_type": "markdown",
      "metadata": {},
      "source": [
        "### Load predictions by models trained on censoring strategies"
      ]
    },
    {
      "cell_type": "code",
      "execution_count": null,
      "metadata": {},
      "outputs": [],
      "source": [
        "def add_censoring_strategy_predictions(df=None, censoring_level=1, censoring_strategy=\"Static\", forecast_lead=1, keep_obs=False, aware=True, cluster=None, covariates=False):\n",
        "    directory_path = f\"../predictions/forecast_{forecast_lead}_{'aware' if aware else 'unaware'}{'_covariates' if covariates else ''}_{model.lower()}_{censoring_strategy.lower()}_{censoring_level}\"\n",
        "    if not os.path.exists(directory_path):\n",
        "        raise NotADirectoryError(directory_path)\n",
        "    \n",
        "    if cluster is None:\n",
        "        raise ValueError(\"Cluster cannot be None\")\n",
        "\n",
        "    preds_path = glob(f\"{directory_path}/predictions_{model}_{cluster}*.csv\")[0] \n",
        "    df_preds = pd.read_csv(preds_path, parse_dates=[\"Date\"], index_col=0)\n",
        "\n",
        "    if 'Date' not in df_preds.columns:\n",
        "        df_preds = df_preds.reset_index()\n",
        "\n",
        "    # We have to shift date with forecast lead normalized to 30 minutes\n",
        "    df_preds.Date = df_preds.Date + pd.DateOffset(minutes=30*(forecast_lead-1))\n",
        "\n",
        "    # Because we HAD a bug of double predictions being generated\n",
        "    # df_preds.dropna(inplace=True, how='all')\n",
        "\n",
        "    # Assume we have forecast horizon of 1. Then we rename the columns to something more readable\n",
        "    df_preds.rename(columns={\n",
        "        cluster+\"_1\": f\"Censored Observations {censoring_strategy} {censoring_level}\",\n",
        "        cluster+\"_1_pred\": f\"Predicted {censoring_strategy} {censoring_level}\",\n",
        "        f\"{cluster}_1_true\": \"True Observations\"\n",
        "    }, inplace=True)\n",
        "\n",
        "    df_preds[\"No. Plugs per Hub\"] = PLUGS_PER_CLUSTER[cluster]\n",
        "    df_preds[\"Cluster\"] = cluster\n",
        "\n",
        "    if not keep_obs:\n",
        "        df_preds = df_preds.drop([\"True Observations\", \"No. Plugs per Hub\", \"Cluster\"], axis=1)\n",
        "\n",
        "    if df is None:\n",
        "        return df_preds\n",
        "    return df.merge(df_preds, on=\"Date\")"
      ]
    },
    {
      "attachments": {},
      "cell_type": "markdown",
      "metadata": {},
      "source": [
        "### Visualization functions"
      ]
    },
    {
      "cell_type": "code",
      "execution_count": null,
      "metadata": {},
      "outputs": [],
      "source": [
        "get_relevant_cols = lambda censoring_level, censoring_strategy: [\n",
        "        'Date', 'No. Plugs per Hub', \"True Observations\",\n",
        "        f\"Censored Observations {censoring_strategy} {censoring_level}\", f\"Predicted {censoring_strategy} {censoring_level}\"]\n",
        "\n",
        "def plot_predictions(df, censoring_level, censoring_strategy):\n",
        "    # Keep only relevant columns\n",
        "    df_plot = df.copy()[get_relevant_cols(censoring_level, censoring_strategy)]\n",
        "\n",
        "    cluster = df.Cluster.unique()[0]\n",
        "    \n",
        "    fig, ax = plt.subplots(figsize=(15, 7))\n",
        "    ax.axhline(y=df_plot[df_plot.Date < '2019-05-30'][f'Censored Observations {censoring_strategy} {censoring_level}'].max(), linestyle='--', label='Censored Threshold', color='black', )\n",
        "    df_plot[df_plot.Date < '2019-05-30']\\\n",
        "        .drop('No. Plugs per Hub', axis=1)\\\n",
        "        .drop(f\"Censored Observations {censoring_strategy} {censoring_level}\", axis=1)\\\n",
        "        .plot(x=\"Date\", ax=ax, title=f\"{model} Predictions for {cluster} cluster with censoring strategy {censoring_strategy} {censoring_level}\", ylabel='Number of sessions', colormap='tab10')\n",
        "\n",
        "    # Set horizontal line at the maximum number of plugs\n",
        "    ax.legend()\n",
        "    fig.savefig(f\"../Figures/prediction_timeseries_{model}_{cluster}_{censoring_strategy}_{censoring_level}.png\")\n",
        "    plt.show()"
      ]
    },
    {
      "cell_type": "code",
      "execution_count": null,
      "metadata": {},
      "outputs": [],
      "source": [
        "def plot_daily_max_sessions(df, censoring_level, censoring_strategy):\n",
        "    cluster = df.Cluster.unique()[0]\n",
        "    df_plot = df.copy()[get_relevant_cols(censoring_level, censoring_strategy)]\n",
        "    # Plot the highest prediction for each day, together with the highest recorded simultaneous number of sessions in a time interval\n",
        "    fig, ax = plt.subplots(figsize=(20, 7))\n",
        "    ax.axhline(y=df_plot[df_plot.Date < '2019-05-30'][f'Censored Observations {censoring_strategy} {censoring_level}'].max(), linestyle='--', label='Censored Threshold', color='black', )\n",
        "    df_plot\\\n",
        "        .drop('No. Plugs per Hub', axis=1) \\\n",
        "        .drop(f\"Censored Observations {censoring_strategy} {censoring_level}\", axis=1) \\\n",
        "        .groupby(df_plot[\"Date\"].dt.date).max() \\\n",
        "        .plot(x=\"Date\", ax=ax, title=f\"Max number of sessions for each day in cluster {cluster}\", colormap='tab10')\n",
        "    ax.set_title(f\"Max number of sessions for each day in cluster {cluster}\")\n",
        "    ax.set_ylabel(\"Number of sessions\")\n",
        "    plt.show()"
      ]
    },
    {
      "cell_type": "code",
      "execution_count": null,
      "metadata": {},
      "outputs": [],
      "source": [
        "def plot_utilisation_per_day(df, censoring_level, censoring_strategy):\n",
        "    cluster = df.Cluster.unique()[0]\n",
        "    df_util_plot = df.copy()\n",
        "    cols = get_relevant_cols(censoring_level, censoring_strategy)\n",
        "    cols.remove('Date')\n",
        "    cols.remove('No. Plugs per Hub')\n",
        "    # We should provide tau from the model training\n",
        "    for col in cols:\n",
        "        df_util_plot['tau_'+col] = df_util_plot[col].max()\n",
        "\n",
        "    sessions_per_day = df_util_plot.groupby(df_util_plot[\"Date\"].dt.date).sum().copy()\n",
        "\n",
        "    # Calculate utilisation\n",
        "    for col in cols:\n",
        "        sessions_per_day['utilisation_'+col] = sessions_per_day[col] / sessions_per_day['No. Plugs per Hub']\n",
        "    # drop all tau columns\n",
        "    sessions_per_day = sessions_per_day[sessions_per_day.columns[sessions_per_day.columns.str.startswith('utilisation_')]]\n",
        "    # remove utilisation_ from the column names\n",
        "    sessions_per_day.columns = sessions_per_day.columns.str.replace('utilisation_', '')\n",
        "    fig, ax = plt.subplots(figsize=(15, 5))\n",
        "    sessions_per_day.plot(ax=ax, colormap='tab10')\n",
        "\n",
        "    ax.set_title(f\"Utilisation per day in cluster {cluster}\")\n",
        "    ax.set_ylabel(\"Utilisation\")\n",
        "    fig.savefig(f\"../Figures/daily_utilisation_{model}_{cluster}_{censoring_strategy}_{censoring_level}.png\")"
      ]
    },
    {
      "attachments": {},
      "cell_type": "markdown",
      "metadata": {},
      "source": [
        "### Utilisation functions"
      ]
    },
    {
      "cell_type": "code",
      "execution_count": null,
      "metadata": {},
      "outputs": [],
      "source": [
        "def calculate_utility(df, max_tau, censoring_level, censoring_strategy, mean=True):\n",
        "    \"\"\" \n",
        "    Calulcate the utility for a given cluster, given predictions, censored and true values of usage, for taus from 1 - max_tau.\n",
        "    \"\"\"\n",
        "    cols = get_relevant_cols(censoring_level, censoring_strategy)\n",
        "    cols.remove('Date')\n",
        "    cols.remove('No. Plugs per Hub')\n",
        "    util_values = {level: [] for level in cols}\n",
        "    # calculate the utility for predicted usage, true usage and censored usage, for each tau\n",
        "    for level, util_list in util_values.items():\n",
        "        \n",
        "        for tau_hypothetical in range(1, max_tau + 1):\n",
        "            df_util = df.copy()\n",
        "            # clip the values to the hypothetical tau (we use values from df instead of df_util to avoid clipping the values multiple times)\n",
        "            df_util[level] = df[level].clip(upper=tau_hypothetical)#.round()\n",
        "            # add the tau_hypothetical as a column\n",
        "            df_util[f'tau_{tau_hypothetical}'] = tau_hypothetical\n",
        "            # Sum the half-hourly values to get the daily values\n",
        "            tmp = df_util.groupby(df_util[\"Date\"].dt.date)[[level, f'tau_{tau_hypothetical}']].sum()\n",
        "            # calculate the utility per day\n",
        "            tmp['utilisation'] = (tmp[level] / tmp[f'tau_{tau_hypothetical}'])\n",
        "            # add the mean utility to the list\n",
        "            if mean:\n",
        "                util_list.append(tmp['utilisation'].mean())\n",
        "            else:\n",
        "                util_list.append(tmp['utilisation'].std())\n",
        "            # When when the utilisations is <= 20%\n",
        "    return util_values"
      ]
    },
    {
      "cell_type": "code",
      "execution_count": null,
      "metadata": {},
      "outputs": [],
      "source": [
        "def plot_utility(df, max_tau, censoring_level, censoring_strategy, ax=None, plot_std=False, color='black'):\n",
        "    utility_values = calculate_utility(df, max_tau, censoring_level, censoring_strategy)\n",
        "    for i, val in enumerate(utility_values['True Observations']):\n",
        "        if np.round(val,2) <= 0.2:\n",
        "            print(f\"True Observations hit 20% utilisation at tau: {i+1}\")\n",
        "            break\n",
        "    if plot_std:\n",
        "        utility_values_std = calculate_utility(df, max_tau, censoring_level, censoring_strategy, mean=False)\n",
        "        \n",
        "        for i, val in enumerate(utility_values[f\"Predicted {censoring_strategy} {censoring_level}\"]):\n",
        "            if val <= 0.2:\n",
        "                print(f\"Predicted {censoring_strategy} {censoring_level} hit 20% utilisation at tau: {i+1}, with std: {utility_values_std[f'Predicted {censoring_strategy} {censoring_level}'][i]}\")\n",
        "                break\n",
        "        df_utilisation_std = pd.DataFrame(utility_values_std)\n",
        "        df_utilisation_std['Capacity'] = df_utilisation_std.index + 1\n",
        "    \n",
        "    df_utilisation = pd.DataFrame(utility_values)\n",
        "    df_utilisation['Capacity'] = df_utilisation.index + 1\n",
        "    capacity = df['No. Plugs per Hub'].max()\n",
        "    if ax is None:\n",
        "        fig, ax = plt.subplots(figsize=(18, 6), sharey=True)\n",
        "        # Only plot true observations if nothing else is plotted yet\n",
        "        # Plot observed demand\n",
        "        ax.plot(\n",
        "            df_utilisation[df_utilisation.Capacity <= capacity]['Capacity'],\n",
        "            df_utilisation[df_utilisation.Capacity <= capacity][\"True Observations\"],\n",
        "            linestyle='-', marker='o', label=\"True demand\", color='black'\n",
        "        )\n",
        "        ax.plot(\n",
        "            df_utilisation[df_utilisation.Capacity >= capacity]['Capacity'],\n",
        "            df_utilisation[df_utilisation.Capacity >= capacity][\"True Observations\"],\n",
        "            linestyle='dashed', marker='o', color='black', alpha=0.5\n",
        "        )\n",
        "        # fig.suptitle(f\"{model} Predicted vs observed utilisation for cluster {cluster} for different capacities\")\n",
        "\n",
        "    # Might change if the censoring level is string\n",
        "    predicted_col_name = f\"Predicted {censoring_strategy} {censoring_level}\"\n",
        "    if isinstance(censoring_level, str):\n",
        "        censoring_level = int(censoring_level[0])\n",
        "    max_observed_by_model = 0\n",
        "    if censoring_strategy == \"Dynamic\":\n",
        "        max_observed_by_model = capacity - censoring_level\n",
        "    else:\n",
        "        max_observed_by_model = censoring_level\n",
        "\n",
        "    # Plot predicted demand\n",
        "    \n",
        "    ax.plot(\n",
        "        df_utilisation[df_utilisation.Capacity <= max_observed_by_model]['Capacity'],\n",
        "        df_utilisation[df_utilisation.Capacity <= max_observed_by_model][predicted_col_name],\n",
        "        linestyle='-', marker='o', label=f\"Predicted demand {censoring_strategy} {censoring_level}\",\n",
        "        color=color\n",
        "    )\n",
        "    print(predicted_col_name, color)\n",
        "    ax.plot(\n",
        "        df_utilisation[df_utilisation.Capacity >= max_observed_by_model]['Capacity'],\n",
        "        df_utilisation[df_utilisation.Capacity >= max_observed_by_model][predicted_col_name],\n",
        "        linestyle='dashed', marker='o', color=color, alpha=0.5\n",
        "    )\n",
        "    if plot_std:\n",
        "        ax.fill_between(\n",
        "            df_utilisation[df_utilisation.Capacity <= max_observed_by_model]['Capacity'],\n",
        "            df_utilisation[df_utilisation.Capacity <= max_observed_by_model][predicted_col_name] - df_utilisation_std[df_utilisation_std.Capacity <= max_observed_by_model][predicted_col_name],\n",
        "            df_utilisation[df_utilisation.Capacity <= max_observed_by_model][predicted_col_name] + df_utilisation_std[df_utilisation_std.Capacity <= max_observed_by_model][predicted_col_name],\n",
        "            alpha=0.2, \n",
        "            color=color\n",
        "        )\n",
        "        ax.fill_between(\n",
        "            df_utilisation[df_utilisation.Capacity >= max_observed_by_model]['Capacity'],\n",
        "            df_utilisation[df_utilisation.Capacity >= max_observed_by_model][predicted_col_name] - df_utilisation_std[df_utilisation_std.Capacity >= max_observed_by_model][predicted_col_name],\n",
        "            df_utilisation[df_utilisation.Capacity >= max_observed_by_model][predicted_col_name] + df_utilisation_std[df_utilisation_std.Capacity >= max_observed_by_model][predicted_col_name],\n",
        "            alpha=0.2, color=color\n",
        "        )\n",
        "\n",
        "    ax.set_xlabel(\"Capacity\")\n",
        "    ax.set_ylabel(\"Utilization\")\n",
        "    ax.yaxis.set_tick_params(labelleft=True)\n",
        "    ax.legend()\n",
        "    return ax"
      ]
    },
    {
      "attachments": {},
      "cell_type": "markdown",
      "metadata": {},
      "source": [
        "### 30 min forecast lead"
      ]
    },
    {
      "attachments": {},
      "cell_type": "markdown",
      "metadata": {},
      "source": [
        "Load predictions"
      ]
    },
    {
      "cell_type": "code",
      "execution_count": null,
      "metadata": {},
      "outputs": [],
      "source": [
        "# Add the predictions for the different censoring strategies\n",
        "df = add_censoring_strategy_predictions(None, 2, \"Dynamic\", keep_obs=True, forecast_lead=1, aware=True, cluster='WEBSTER').reset_index()\n",
        "df = add_censoring_strategy_predictions(df, 1, \"Dynamic\",  forecast_lead=1, aware=True, cluster='WEBSTER')\n",
        "df = add_censoring_strategy_predictions(df, 2, \"Static\", forecast_lead=1, aware=True, cluster='WEBSTER')\n",
        "df = add_censoring_strategy_predictions(df, 3, \"Static\", forecast_lead=1, aware=True, cluster='WEBSTER')\n",
        "\n",
        "df.head()"
      ]
    },
    {
      "attachments": {},
      "cell_type": "markdown",
      "metadata": {},
      "source": [
        "Once an EV-charging station is built, all costs are essentially fixed, so utilization is key to achieving efficiency. Still, even a quite low utilization is likely to result in lines at busy times. In practice, the stand-alone, fast-charger industry uses a 20% utilization as a rule of thumb. But if a charging station is utilized at more than this 20% threshold, the operator will likely look to expand capacity or, more likely, add another site nearby."
      ]
    },
    {
      "attachments": {},
      "cell_type": "markdown",
      "metadata": {},
      "source": [
        "### 24 hours forecast lead"
      ]
    },
    {
      "attachments": {},
      "cell_type": "markdown",
      "metadata": {},
      "source": [
        "Load predictions"
      ]
    },
    {
      "cell_type": "code",
      "execution_count": null,
      "metadata": {},
      "outputs": [],
      "source": [
        "df_48 = add_censoring_strategy_predictions(None, 2, \"Dynamic\", keep_obs=True, forecast_lead=48, aware=True, cluster='WEBSTER')\n",
        "df_48 = add_censoring_strategy_predictions(df_48, 1, \"Dynamic\", forecast_lead=48, aware=True, cluster='WEBSTER')\n",
        "df_48 = add_censoring_strategy_predictions(df_48, 2, \"Static\", forecast_lead=48, aware=True, cluster='WEBSTER')\n",
        "df_48 = add_censoring_strategy_predictions(df_48, 3, \"Static\", forecast_lead=48, aware=True, cluster='WEBSTER')\n",
        "\n",
        "df_48.head()"
      ]
    },
    {
      "attachments": {},
      "cell_type": "markdown",
      "metadata": {},
      "source": [
        "Utilisation plot"
      ]
    },
    {
      "cell_type": "code",
      "execution_count": null,
      "metadata": {},
      "outputs": [],
      "source": [
        "ax = plot_utility(df_48.reset_index(), 12, 2, \"Dynamic\")\n",
        "ax = plot_utility(df_48.reset_index(), 12, 1, \"Dynamic\", ax=ax)\n",
        "ax = plot_utility(df_48.reset_index(), 12, 2, \"Static\", ax=ax)\n",
        "ax = plot_utility(df_48.reset_index(), 12, 3, \"Static\", ax=ax)\n",
        "\n",
        "\n",
        "ax.axhline(y=0.2, linestyle='--', color='g', label=\"20% utilisation\")\n",
        "plt.legend()\n",
        "plt.show()"
      ]
    },
    {
      "attachments": {},
      "cell_type": "markdown",
      "metadata": {},
      "source": [
        "### 24 hours forecast lead plotted together with unaware model"
      ]
    },
    {
      "cell_type": "code",
      "execution_count": null,
      "metadata": {},
      "outputs": [],
      "source": [
        "CLUSTER = 'HIGH' # Cluster for which we want to plot the predictions aware vs unaware"
      ]
    },
    {
      "cell_type": "code",
      "execution_count": null,
      "metadata": {},
      "outputs": [],
      "source": [
        "df_48_aware = add_censoring_strategy_predictions(None, 2, \"Static\", forecast_lead=48, aware=True, cluster=CLUSTER, keep_obs=True)\n",
        "df_48_unaware = add_censoring_strategy_predictions(None, 2, \"Static\", forecast_lead=48, aware=False, cluster=CLUSTER, keep_obs=True)\n",
        "# As we're not using a censored dataset\n",
        "df_48_unaware[\"True Observations\"] = df_48_unaware[\"Censored Observations Static 2\"]\n",
        "df_48_unaware[\"No. Plugs per Hub\"] = PLUGS_PER_CLUSTER[CLUSTER]\n",
        "\n",
        "# df_48_unaware.head()"
      ]
    },
    {
      "cell_type": "code",
      "execution_count": null,
      "metadata": {},
      "outputs": [],
      "source": [
        "# Plot aware\n",
        "print(\"*\"*10 + \" Aware \" + \"*\"*10)\n",
        "ax = plot_utility(df_48_aware.reset_index(), 15, 2, \"Static\", plot_std=True, color=\"#E24A33\")\n",
        "ax.lines[-2].set_label(\"T-GCN-A\")\n",
        "# Plot unaware\n",
        "print(\"*\"*10 + \" Unaware \" + \"*\"*10)\n",
        "ax = plot_utility(df_48_unaware.reset_index(), 15, 2, \"Static\", ax=ax, plot_std=True, color=\"#348ABD\")\n",
        "# Change label of the last plot\n",
        "ax.lines[-2].set_label(\"T-GCN\")\n",
        "ax.axhline(y=0.2, linestyle='--', color='g', label=\"20% Utilization\")\n",
        "plt.legend()\n",
        "plt.savefig(f\"../Figures/aware_vs_unaware_{CLUSTER}.png\", bbox_inches='tight', dpi=300)\n",
        "plt.show()"
      ]
    },
    {
      "attachments": {},
      "cell_type": "markdown",
      "metadata": {},
      "source": [
        "Time series plot"
      ]
    },
    {
      "cell_type": "code",
      "execution_count": null,
      "metadata": {},
      "outputs": [],
      "source": [
        "import matplotlib.pyplot as plt\n",
        "from matplotlib.ticker import MaxNLocator\n",
        "\n",
        "\n",
        "def plot_forecast(ax, forecast_lead, title, strategy='Static', censor_level=2, cluster='WEBSTER', max_date='2019-04-29', start_date='2019-04-09'):\n",
        "    df_unaware = add_censoring_strategy_predictions(None, censor_level, strategy, forecast_lead=forecast_lead, aware=False, cluster=cluster)\n",
        "    df_aware = add_censoring_strategy_predictions(None, censor_level, strategy, forecast_lead=forecast_lead, aware=True, cluster=cluster, keep_obs=True)\n",
        "\n",
        "    df_unaware_plot = df_unaware.copy().reset_index()\n",
        "    df_unaware_plot = df_unaware_plot[(df_unaware_plot.Date >= start_date) & (df_unaware_plot.Date < max_date)]\n",
        "\n",
        "    df_aware_plot = df_aware.copy().reset_index()\n",
        "    df_aware_plot = df_aware_plot[(df_aware_plot.Date >= start_date) & (df_aware_plot.Date < max_date)]\n",
        "\n",
        "    # Plot y=3\n",
        "    if strategy == 'Static':\n",
        "        y = censor_level\n",
        "    else:\n",
        "        y = np.maximum(2, PLUGS_PER_CLUSTER[cluster] - censor_level)\n",
        "    ax.axhline(y=y, linestyle='--', color='g', label=r\"$\\tau$\")\n",
        "\n",
        "    ax.plot(df_aware_plot.Date, df_aware_plot[\"True Observations\"], color='black', label=\"Ground Truth\", alpha=1)\n",
        "    ax.plot(df_aware_plot.Date, df_aware_plot[f\"Predicted {strategy} {censor_level}\"], color='#E24A33', label=\"T-GCN-A\")\n",
        "    # Plot unaware\n",
        "    ax.plot(df_unaware_plot.Date, df_unaware_plot[f\"Predicted {strategy} {censor_level}\"], color='#348ABD', label=\"T-GCN\")\n",
        "\n",
        "    # plot a red dot if its the weekend\n",
        "    # df_aware_weekend = df_aware_plot[df_aware_plot.Date.dt.dayofweek > 4]\n",
        "    #ax.scatter(df_aware_weekend.Date, df_aware_weekend[f\"Predicted {strategy} {censor_level}\"], color='red', marker='o', s=25)\n",
        "\n",
        "fig, ax = plt.subplots(3, figsize=(22, 7), sharex=True, sharey=True)\n",
        "\n",
        "# set title\n",
        "\n",
        "# define colormap\n",
        "cmap = plt.get_cmap(\"tab20\")\n",
        "\n",
        "start_date = '2019-04-09'\n",
        "max_date = '2019-04-23' # 2 weeks\n",
        "CLUSTER = 'BRYANT'\n",
        "STRAT = 'Static'\n",
        "CENSOR_LEVEL = 2\n",
        "\n",
        "#fig.suptitle(f\"Predictions for {CLUSTER} cluster {STRAT} {CENSOR_LEVEL}\")\n",
        "\n",
        "forecast_leads = [1, 24, 48]\n",
        "titles = [ \"30 minute forecast lead\", \"12 hour forecast lead\", \"24 hour forecast lead\"]\n",
        "\n",
        "for i in range(3):\n",
        "    ax[i].set_title(titles[i])\n",
        "    plot_forecast(ax[i], forecast_leads[i], titles[i], cluster=CLUSTER, strategy=STRAT, censor_level=CENSOR_LEVEL, max_date=max_date, start_date=start_date)\n",
        "    # plot a dot if its the weekend\n",
        "\n",
        "ax[0].legend()\n",
        "# Make y.axis integer\n",
        "ax[0].yaxis.set_major_locator(MaxNLocator(integer=True, nbins=5))\n",
        "# place legend on top to the left\n",
        "ax[0].legend(loc='upper left', bbox_to_anchor=(0, 1.5), ncol=4, fancybox=False, shadow=False, frameon=False)\n",
        "\n",
        "# save fig \n",
        "plt.savefig(f\"../Figures/aware_vs_unaware_forecast_leads_{CLUSTER}_1_24_48.png\", bbox_inches='tight', dpi=300)\n",
        "plt.show()\n"
      ]
    },
    {
      "cell_type": "code",
      "execution_count": null,
      "metadata": {},
      "outputs": [],
      "source": [
        "from sklearn.metrics import explained_variance_score, mean_absolute_percentage_error\n",
        "cluster_names = [\n",
        "    \"BRYANT\",\n",
        "    \"CAMBRIDGE\",\n",
        "    \"HAMILTON\",\n",
        "    \"HIGH\",\n",
        "    \"MPL\",\n",
        "    \"RINCONADA\",\n",
        "    \"TED\",\n",
        "    \"WEBSTER\",\n",
        "]\n",
        "def smape(A, F):\n",
        "    return 100/len(A) * np.sum(2 * np.abs(F - A) / (np.abs(A) + np.abs(F)))\n",
        "\n",
        "\n",
        "for cluster in cluster_names:\n",
        "    df_aware_experiment = add_censoring_strategy_predictions(None, 2, \"Dynamic\", forecast_lead=48, aware=True, cluster=cluster, keep_obs=True)\n",
        "    mape = smape(df_aware_experiment[\"True Observations\"], df_aware_experiment[\"Predicted Dynamic 2\"].astype(int))\n",
        "    print(f\"MAPE for {cluster} cluster: {mape}\")\n",
        "\n"
      ]
    },
    {
      "attachments": {},
      "cell_type": "markdown",
      "metadata": {},
      "source": [
        "## Single cluster"
      ]
    },
    {
      "cell_type": "code",
      "execution_count": null,
      "metadata": {},
      "outputs": [],
      "source": [
        "fig, ax = plt.subplots(1, figsize=(25, 4), sharex=True, sharey=True)\n",
        "max_date = '2019-04-30' # 2 weeks\n",
        "\n",
        "plot_forecast(ax, 1, \"\", cluster='HAMILTON', strategy='Dynamic', censor_level=2, max_date=max_date, start_date=start_date)\n",
        "ax.legend(loc='upper left', bbox_to_anchor=(0, 1.15), ncol=4, fancybox=False, shadow=False, frameon=False)\n",
        "fig.savefig(f\"../Figures/hamilton_going_ham.png\", bbox_inches='tight', dpi=300)\n"
      ]
    },
    {
      "attachments": {},
      "cell_type": "markdown",
      "metadata": {},
      "source": [
        "## Aggregation of macro-clusters"
      ]
    },
    {
      "cell_type": "code",
      "execution_count": null,
      "metadata": {},
      "outputs": [],
      "source": [
        "forecast_lead = 48\n",
        "\n",
        "df_webster = add_censoring_strategy_predictions(None, 2, 'Dynamic', forecast_lead=forecast_lead, aware=True, cluster='WEBSTER', keep_obs=True)\n",
        "df_bryant = add_censoring_strategy_predictions(None, 2, 'Dynamic', forecast_lead=forecast_lead, aware=True, cluster='BRYANT', keep_obs=True)\n",
        "df_hamilton = add_censoring_strategy_predictions(None, 2, 'Dynamic', forecast_lead=forecast_lead, aware=True, cluster='HAMILTON', keep_obs=True)\n",
        "df_high = add_censoring_strategy_predictions(None, 2, 'Dynamic', forecast_lead=forecast_lead, aware=True, cluster='HIGH', keep_obs=True)\n",
        "df_cambridge = add_censoring_strategy_predictions(None, 2, 'Dynamic', forecast_lead=forecast_lead, aware=True, cluster='CAMBRIDGE', keep_obs=True)\n",
        "df_mpl = add_censoring_strategy_predictions(None, 2, 'Dynamic', forecast_lead=forecast_lead, aware=True, cluster='MPL', keep_obs=True)\n",
        "df_rinconada = add_censoring_strategy_predictions(None, 2, 'Dynamic', forecast_lead=forecast_lead, aware=True, cluster='RINCONADA', keep_obs=True)\n",
        "df_ted = add_censoring_strategy_predictions(None, 2, 'Dynamic', forecast_lead=forecast_lead, aware=True, cluster='TED', keep_obs=True)\n",
        "\n",
        "df_total = pd.concat(\n",
        "    [\n",
        "        df_webster, df_bryant, df_hamilton, df_high, df_cambridge, df_mpl, df_rinconada, df_ted\n",
        "        ]\n",
        "    ).groupby('Date').sum().reset_index()\n",
        "\n",
        "fig, ax = plt.subplots(figsize=(20, 5))\n",
        "\n",
        "df_total = df_total[df_total.Date < '2019-04-29']\n",
        "# ax.axhline(y=26 - 4*2, linestyle='--', color=cmap(0), label=f\"Censor threshold\")\n",
        "ax.set_title(\"Predictions for clusters WEBSTER, BRYANT, HAMILTON and HIGH\")\n",
        "ax.plot(df_total.Date, df_total[\"True Observations\"], color='black', label=\"True Observations\")\n",
        "ax.plot(df_total.Date, df_total[f\"Predicted Dynamic 2\"], color='#E24A33', label=\"Aware model\")\n",
        "ax.plot(df_total.Date, df_total[f\"Censored Observations Dynamic 2\"], color='g', label=\"Censored\")\n",
        "ax.legend()\n",
        "plt.show()"
      ]
    },
    {
      "cell_type": "code",
      "execution_count": null,
      "metadata": {},
      "outputs": [],
      "source": [
        "df_webster = add_censoring_strategy_predictions(None, 3, 'Static', forecast_lead=forecast_lead, aware=True, cluster='WEBSTER', keep_obs=True)\n",
        "df_bryant = add_censoring_strategy_predictions(None, 3, 'Static', forecast_lead=forecast_lead, aware=True, cluster='BRYANT', keep_obs=True)\n",
        "df_hamilton = add_censoring_strategy_predictions(None, 3, 'Static', forecast_lead=forecast_lead, aware=True, cluster='HAMILTON', keep_obs=True)\n",
        "df_high = add_censoring_strategy_predictions(None, 3, 'Static', forecast_lead=forecast_lead, aware=True, cluster='HIGH', keep_obs=True)\n",
        "\n",
        "df_total = pd.concat([df_webster, df_bryant, df_hamilton, df_high]).groupby('Date').sum().reset_index()\n",
        "\n",
        "fig, ax = plt.subplots(figsize=(20, 5))\n",
        "\n",
        "df_total = df_total[df_total.Date < '2019-04-29']\n",
        "# ax.axhline(y=26 - 4*2, linestyle='--', color=cmap(0), label=f\"Censor threshold\")\n",
        "ax.set_title(\"Predictions for clusters WEBSTER, BRYANT, HAMILTON and HIGH\")\n",
        "\n",
        "ax.plot(df_total.Date, df_total[\"True Observations\"], color=cmap(1), label=\"True Observations\")\n",
        "ax.plot(df_total.Date, df_total[f\"Predicted Static 3\"], color=cmap(2), label=\"Aware model\")\n",
        "ax.plot(df_total.Date, df_total[f\"Censored Observations Static 3\"], color=cmap(4), label=\"Censored\")\n",
        "ax.legend()\n",
        "plt.show()"
      ]
    },
    {
      "attachments": {},
      "cell_type": "markdown",
      "metadata": {},
      "source": [
        "## 24 hour vs 30 min forecast\n",
        "For Dynamic 2 "
      ]
    },
    {
      "cell_type": "code",
      "execution_count": null,
      "metadata": {},
      "outputs": [],
      "source": [
        "CLUSTER = 'CAMBRIDGE'"
      ]
    },
    {
      "cell_type": "code",
      "execution_count": null,
      "metadata": {},
      "outputs": [],
      "source": [
        "df_24_vs_30 = add_censoring_strategy_predictions(None, 2, \"Dynamic\", keep_obs=True, forecast_lead=1, aware=True, cluster=CLUSTER)\n",
        "\n",
        "df_24_vs_30 = df_24_vs_30.add_suffix('_forecast_1')\n",
        "df_24_vs_30 = df_24_vs_30.rename(columns={'True Observations_forecast_1': 'True Observations'})\n",
        "df_24_vs_30 = add_censoring_strategy_predictions(df_24_vs_30, 2, \"Dynamic\", forecast_lead=48, aware=True, cluster=CLUSTER)\n",
        "df_24_vs_30[\"No. Plugs per Hub\"] = PLUGS_PER_CLUSTER[CLUSTER]\n",
        "\n",
        "df_24_vs_30.head()"
      ]
    },
    {
      "cell_type": "code",
      "execution_count": null,
      "metadata": {},
      "outputs": [],
      "source": [
        "fig, ax = plt.subplots(figsize=(15, 5))\n",
        "max_date = '2019-04-29' # 2 weeks\n",
        "df_24_vs_30_plot = df_24_vs_30.copy().reset_index()\n",
        "df_24_vs_30_plot = df_24_vs_30_plot[df_24_vs_30_plot.Date < max_date]\n",
        "\n",
        "\n",
        "plt.plot(\n",
        "    df_24_vs_30_plot.Date, np.minimum(3, df_24_vs_30_plot[\"No. Plugs per Hub\"] - 2), # Dynamic 2\n",
        "    linestyle='--', label=\"Censor threshold\") \n",
        "plt.plot(df_24_vs_30_plot.Date, df_24_vs_30_plot[\"True Observations\"], label=\"True Observations\")\n",
        "plt.plot(df_24_vs_30_plot.Date, df_24_vs_30_plot[\"Predicted Dynamic 2_forecast_1\"], label=\"30 min forecast\")\n",
        "plt.plot(df_24_vs_30_plot.Date, df_24_vs_30_plot[\"Predicted Dynamic 2\"], label=\"24 hour forecast forecast\")\n",
        "\n",
        "# Set horizontal line at the maximum number of plugs\n",
        "ax.set_title(f\"24 hour vs 30 min forecast lead predictions for {CLUSTER} cluster Dynamic 2\")\n",
        "ax.legend()\n",
        "plt.show()"
      ]
    },
    {
      "cell_type": "code",
      "execution_count": null,
      "metadata": {},
      "outputs": [],
      "source": [
        "ax = plot_utility(df_48.reset_index(), 12, 2, \"Static\", plot_std=True)"
      ]
    },
    {
      "cell_type": "code",
      "execution_count": null,
      "metadata": {},
      "outputs": [],
      "source": [
        "from scipy.stats import poisson, norm\n",
        "import matplotlib.pyplot as plt\n",
        "import numpy as np\n",
        "\n",
        "#creating an array of values between\n",
        "#0 to 20 with a difference of 1\n",
        "x = np.arange(0, 5, 1)\n",
        "y = -poisson.logpmf(2, x, 0)\n",
        "   \n",
        "plt.plot(x, y, 'bo') \n",
        "plt.show()"
      ]
    },
    {
      "cell_type": "code",
      "execution_count": null,
      "metadata": {},
      "outputs": [],
      "source": [
        "x = np.arange(0, 5, 1)\n",
        "y = -norm.logpdf(x, loc=2, scale=2)\n",
        "   \n",
        "plt.plot(x, y, 'bo') \n",
        "plt.show()"
      ]
    },
    {
      "cell_type": "code",
      "execution_count": null,
      "metadata": {},
      "outputs": [],
      "source": []
    }
  ],
  "metadata": {
    "kernelspec": {
      "display_name": "thesis",
      "language": "python",
      "name": "python3"
    },
    "language_info": {
      "codemirror_mode": {
        "name": "ipython",
        "version": 3
      },
      "file_extension": ".py",
      "mimetype": "text/x-python",
      "name": "python",
      "nbconvert_exporter": "python",
      "pygments_lexer": "ipython3",
      "version": "3.10.9"
    },
    "orig_nbformat": 4
  },
  "nbformat": 4,
  "nbformat_minor": 2
}

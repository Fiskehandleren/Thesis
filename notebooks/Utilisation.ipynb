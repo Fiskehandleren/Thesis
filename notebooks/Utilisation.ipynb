{
 "cells": [
  {
   "cell_type": "code",
   "execution_count": null,
   "metadata": {},
   "outputs": [],
   "source": [
    "import pandas as pd\n",
    "import matplotlib.pyplot as plt\n",
    "from glob import glob\n",
    "plt.style.use('ggplot')"
   ]
  },
  {
   "cell_type": "code",
   "execution_count": null,
   "metadata": {},
   "outputs": [],
   "source": [
    "CLUSTER = \"WEBSTER\""
   ]
  },
  {
   "cell_type": "code",
   "execution_count": null,
   "metadata": {},
   "outputs": [],
   "source": [
    "df = pd.read_csv(glob(f\"../predictions/best_sweep_tgcn_cpnll/predictions_TGCN_{CLUSTER}*.csv\")[0]  , index_col=0, parse_dates=[\"Date\"])\n",
    "# Keep only the columns relataed to the cluster + the date\n",
    "df = df.loc[:, (df.columns.str.startswith(CLUSTER) | (df.columns == \"Date\"))]\n",
    "df.head(5)"
   ]
  },
  {
   "cell_type": "code",
   "execution_count": null,
   "metadata": {},
   "outputs": [],
   "source": [
    "plug_capacity = pd.read_csv(\"../data/MaximumPlugsPerCluster.csv\", index_col=0, parse_dates=[\"StartDate\", \"EndDate\"])\n",
    "plug_capacity = plug_capacity[plug_capacity.Cluster == CLUSTER]\n",
    "plug_capacity"
   ]
  },
  {
   "cell_type": "code",
   "execution_count": null,
   "metadata": {},
   "outputs": [],
   "source": [
    "df[df.Date < '2019-05-30'].plot(x=\"Date\", figsize=(20, 7), title=f\"Predictions for {CLUSTER} cluster\", ylabel='Number of sessions')"
   ]
  },
  {
   "cell_type": "code",
   "execution_count": null,
   "metadata": {},
   "outputs": [],
   "source": [
    "# Assume we have forecast horizon of 1. Then we rename the columns to something more readable\n",
    "df.rename(columns={CLUSTER+\"_1\": \"Censored Observations\", CLUSTER+\"_1_pred\": \"Predicted\", f\"{CLUSTER}_1_true\": 'True Observations'}, inplace=True)\n",
    "LEVELS = [\"Censored Observations\", \"Predicted\", \"True Observations\"]"
   ]
  },
  {
   "cell_type": "code",
   "execution_count": null,
   "metadata": {},
   "outputs": [],
   "source": [
    "# find the highest predictions for each day\n",
    "fig, ax = plt.subplots(figsize=(15, 5))\n",
    "\n",
    "df.groupby(df[\"Date\"].dt.date)[LEVELS].max().plot(ax=ax)\n",
    "ax.set_title(f\"Max number of sessions for each day in cluster {CLUSTER}\")\n",
    "ax.set_ylabel(\"Number of sessions\")\n",
    "# Replace CLUSTER_[0-9] by Censored Observations, CLUSTER_[0-9]_pred by Predictions and CLUSTER_[0-9]_true by True Values"
   ]
  },
  {
   "cell_type": "code",
   "execution_count": null,
   "metadata": {},
   "outputs": [],
   "source": [
    "\n",
    "def plot_utilisation_per_day(df):\n",
    "    df_util_plot = df.copy()\n",
    "    # We should provide tau from the model training\n",
    "    for col in LEVELS:\n",
    "        df_util_plot['tau_'+col] = df_util_plot[col].max()\n",
    "\n",
    "    sessions_per_day = df_util_plot.groupby(df_util_plot[\"Date\"].dt.date).sum().copy()\n",
    "\n",
    "    # Calculate utilisation\n",
    "    for col in LEVELS:\n",
    "        sessions_per_day['utilisation_'+col] = sessions_per_day[col] / sessions_per_day['tau_'+col]\n",
    "    # Plot\n",
    "    # drop all tau columns\n",
    "    sessions_per_day = sessions_per_day[sessions_per_day.columns[sessions_per_day.columns.str.startswith('utilisation_')]]\n",
    "    # remove utilisation_ from the column names\n",
    "    sessions_per_day.columns = sessions_per_day.columns.str.replace('utilisation_', '')\n",
    "    fig, ax = plt.subplots(figsize=(15, 5))\n",
    "    sessions_per_day.plot(ax=ax)\n",
    "    ax.set_title(f\"Utilisation per day in cluster {CLUSTER}\")\n",
    "    ax.set_ylabel(\"Utilisation\")\n",
    "    sessions_per_day.head()\n",
    "\n",
    "plot_utilisation_per_day(df)"
   ]
  },
  {
   "cell_type": "code",
   "execution_count": null,
   "metadata": {},
   "outputs": [],
   "source": [
    "def calculate_utility(df, CLUSTER, max_tau):\n",
    "    \"\"\" \n",
    "    Calulcate the utility for a given cluster, given predictions, censored and true values of usage, for taus from 1 - max_tau.\n",
    "    \"\"\"\n",
    "    # \n",
    "    util_values = {level: [] for level in LEVELS}\n",
    "    # calculate the utility for predicted usage, true usage and censored usage, for each tau\n",
    "    for level, util_list in util_values.items():\n",
    "        for tau_hypothetical in range(1, max_tau + 1):\n",
    "            df_util = df.copy()\n",
    "            # clip the values to the hypothetical tau (we use values from df instead of df_util to avoid clipping the values multiple times)\n",
    "            df_util[level] = df[level].clip(upper=tau_hypothetical)\n",
    "            # add the tau_hypothetical as a column\n",
    "            df_util[f'tau_{tau_hypothetical}'] = tau_hypothetical\n",
    "            # Sum the half-hourly values to get the daily values\n",
    "            tmp = df_util.groupby(df_util[\"Date\"].dt.date)[[level, f'tau_{tau_hypothetical}']].sum()\n",
    "            # calculate the utility per day\n",
    "            tmp['utilisation'] = (tmp[level] / tmp[f'tau_{tau_hypothetical}'])\n",
    "            # add the mean utility to the list\n",
    "            util_list.append(tmp['utilisation'].mean())\n",
    "\n",
    "    return util_values\n",
    "utility_values = calculate_utility(df, CLUSTER, 12)"
   ]
  },
  {
   "cell_type": "code",
   "execution_count": null,
   "metadata": {},
   "outputs": [],
   "source": [
    "df_utilisation = pd.DataFrame(utility_values)\n",
    "df_utilisation['Capacity'] = df_utilisation.index + 1\n",
    "df_utilisation"
   ]
  },
  {
   "cell_type": "code",
   "execution_count": null,
   "metadata": {},
   "outputs": [],
   "source": [
    "fig, ax = plt.subplots(figsize=(12, 7), sharey=True)\n",
    "ax.plot(df_utilisation['Capacity'], df_utilisation[\"Predicted\"], '-o', label=\"Utilisation for predicted demand\")\n",
    "\n",
    "ax.plot(df_utilisation['Capacity'], df_utilisation[\"True Observations\"], '-o', label=\"Utilisation for true demand\")\n",
    "\n",
    "ax.axhline(y=0.2, linestyle='--', color='g', label=\"20% utilisation\")\n",
    "ax.set_xlabel(\"Capacity\")\n",
    "ax.set_ylabel(\"Utilisation\")\n",
    "ax.yaxis.set_tick_params(labelleft=True)\n",
    "ax.legend()\n",
    "fig.suptitle(f\"Predicted vs Real utilisation for cluster {CLUSTER}\")\n",
    "plt.show()"
   ]
  },
  {
   "attachments": {},
   "cell_type": "markdown",
   "metadata": {},
   "source": [
    "## Utilization is key (PWC)\n",
    "Once an EV-charging station is built, all costs are essentially fixed, so utilization is key to achieving efficiency. Still, even a quite low utilization is likely to result in lines at busy times. In practice, the stand-alone, fast-charger industry uses a 20% utilization as a rule of thumb. But if a charging station is utilized at more than this 20% threshold, the operator will likely look to expand capacity or, more likely, add another site nearby."
   ]
  },
  {
   "cell_type": "code",
   "execution_count": null,
   "metadata": {},
   "outputs": [],
   "source": []
  },
  {
   "cell_type": "code",
   "execution_count": null,
   "metadata": {},
   "outputs": [],
   "source": []
  }
 ],
 "metadata": {
  "kernelspec": {
   "display_name": "thesis",
   "language": "python",
   "name": "python3"
  },
  "language_info": {
   "codemirror_mode": {
    "name": "ipython",
    "version": 3
   },
   "file_extension": ".py",
   "mimetype": "text/x-python",
   "name": "python",
   "nbconvert_exporter": "python",
   "pygments_lexer": "ipython3",
   "version": "3.10.9"
  },
  "orig_nbformat": 4
 },
 "nbformat": 4,
 "nbformat_minor": 2
}

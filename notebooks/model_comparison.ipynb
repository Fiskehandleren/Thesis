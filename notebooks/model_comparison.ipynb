{
 "cells": [
  {
   "cell_type": "code",
   "execution_count": null,
   "metadata": {},
   "outputs": [],
   "source": [
    "import sys \n",
    "sys.path.append('..')\n",
    "import matplotlib.pyplot as plt\n",
    "import networkx as nx\n",
    "import pandas as pd\n",
    "import torch\n",
    "import numpy as np\n",
    "from utils import losses\n",
    "import pytorch_lightning as pl\n",
    "\n",
    "from architectures import AR, GRU, LSTM, TGCN\n",
    "\n",
    "## Plotting packages\n",
    "import plotly.express as px\n",
    "from plotly.subplots import make_subplots\n",
    "import plotly.graph_objects as go\n",
    "import plotly.io as pio\n",
    "pio.templates.default = \"plotly_white\""
   ]
  },
  {
   "cell_type": "code",
   "execution_count": null,
   "metadata": {},
   "outputs": [],
   "source": [
    "## download "
   ]
  },
  {
   "cell_type": "code",
   "execution_count": null,
   "metadata": {},
   "outputs": [],
   "source": [
    "df_gru = pd.read_csv(\"../predictions/predictions_GRU_laced-hill-568.csv\", parse_dates=['Date'])\n",
    "df_gru_pnll = pd.read_csv(\"../predictions/predictions_GRU_wild-sweep-3.csv\", parse_dates=['Date'])\n",
    "#df_lstm = df_lstm.drop(columns='Unnamed: 0')\n",
    "df_gru = df_gru.rename(columns={'WEBSTER_pred':'GRU_pred'})\n",
    "df_gru['GRU_PNLL_pred'] = df_gru_pnll['WEBSTER_pred']"
   ]
  },
  {
   "cell_type": "code",
   "execution_count": null,
   "metadata": {},
   "outputs": [],
   "source": [
    "df_tgcn = pd.read_csv(\"../predictions/predictions_tgcn_sparkling-leaf-4.csv\", parse_dates=['Date'], index_col=0)\n",
    "df_tgcn = df_tgcn.rename(columns={'WEBSTER_pred':'TGCN_pred'})\n",
    "df_gru['TGCN_pred'] = df_tgcn['TGCN_pred']"
   ]
  },
  {
   "cell_type": "code",
   "execution_count": null,
   "metadata": {},
   "outputs": [],
   "source": [
    "plot_template = dict(\n",
    "    layout=go.Layout({\n",
    "        \"font_size\": 12,\n",
    "        \"xaxis_title_font_size\": 14,\n",
    "        \"yaxis_title_font_size\": 14})\n",
    "    )\n",
    "\n",
    "df_gru.set_index('Date', inplace=True, drop=True)\n",
    "fig = px.line(df_gru, labels=dict(created_at=\"Date\", value=\"Sessions\"))\n",
    "fig.update_layout(\n",
    "    template=plot_template, legend=dict(orientation='h', y=1.06, title_text=\"\")\n",
    ")"
   ]
  },
  {
   "cell_type": "code",
   "execution_count": null,
   "metadata": {},
   "outputs": [],
   "source": [
    "df_gru"
   ]
  },
  {
   "cell_type": "code",
   "execution_count": null,
   "metadata": {},
   "outputs": [],
   "source": [
    "import matplotlib.pylab as pylab\n",
    "params = {'legend.fontsize': 'large',\n",
    "          'figure.figsize': (15, 5),\n",
    "         'axes.labelsize': 'x-large',\n",
    "         'axes.titlesize':'x-large',\n",
    "         'xtick.labelsize':'x-large',\n",
    "         'ytick.labelsize':'x-large'}\n",
    "pylab.rcParams.update(params)"
   ]
  },
  {
   "cell_type": "code",
   "execution_count": null,
   "metadata": {},
   "outputs": [],
   "source": [
    "start_obs = 600\n",
    "end_obs = 900\n",
    "fig, ax = plt.subplots(figsize=(18,11))\n",
    "ax.plot(df_gru['Date'][start_obs:end_obs], df_gru['WEBSTER_true'][start_obs:end_obs], label = 'True observations')\n",
    "ax.plot(df_gru['Date'][start_obs:end_obs], df_gru['GRU_pred'][start_obs:end_obs], label = 'Censor-aware GRU_pred')\n",
    "ax.plot(df_gru['Date'][start_obs:end_obs], df_gru['GRU_PNLL_pred'][start_obs+24:end_obs+24], label = 'Classic GRU_pred')\n",
    "#ax.plot(df_gru.index[start_obs:end_obs], df_gru['TGCN_pred'][start_obs:end_obs], label = 'TGCN_pred')\n",
    "ax.plot(df_gru['Date'][start_obs:end_obs], np.ones(len(df_gru.index[start_obs:end_obs]))*2, label = \"Threshold\", color = 'gray', alpha = 0.7)\n",
    "ax.legend()\n",
    "ax.set_xlabel('Date')\n",
    "ax.set_ylabel('Charging events')\n",
    "plt.plot()"
   ]
  },
  {
   "cell_type": "code",
   "execution_count": null,
   "metadata": {},
   "outputs": [],
   "source": []
  }
 ],
 "metadata": {
  "kernelspec": {
   "display_name": "base",
   "language": "python",
   "name": "python3"
  },
  "language_info": {
   "codemirror_mode": {
    "name": "ipython",
    "version": 3
   },
   "file_extension": ".py",
   "mimetype": "text/x-python",
   "name": "python",
   "nbconvert_exporter": "python",
   "pygments_lexer": "ipython3",
   "version": "3.10.9"
  },
  "orig_nbformat": 4
 },
 "nbformat": 4,
 "nbformat_minor": 2
}

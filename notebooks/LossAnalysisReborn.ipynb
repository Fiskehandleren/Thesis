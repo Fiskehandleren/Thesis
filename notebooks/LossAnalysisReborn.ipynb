{
 "cells": [
  {
   "cell_type": "code",
   "execution_count": 39,
   "metadata": {},
   "outputs": [],
   "source": [
    "import pandas as pd\n",
    "import numpy as np\n",
    "from glob import glob\n",
    "from sklearn.metrics import mean_absolute_error, mean_squared_error\n"
   ]
  },
  {
   "cell_type": "code",
   "execution_count": 40,
   "metadata": {},
   "outputs": [
    {
     "name": "stdout",
     "output_type": "stream",
     "text": [
      "predictions_TGCN_BRYANT_j4m7krag_2.csv\n",
      "predictions_TGCN_CAMBRIDGE_j4m7krag_2.csv\n",
      "predictions_TGCN_HAMILTON_j4m7krag_2.csv\n",
      "predictions_TGCN_HIGH_j4m7krag_2.csv\n",
      "predictions_TGCN_MPL_j4m7krag_2.csv\n",
      "predictions_TGCN_RINCONADA_j4m7krag_2.csv\n",
      "predictions_TGCN_TED_j4m7krag_2.csv\n",
      "predictions_TGCN_WEBSTER_j4m7krag_2.csv\n"
     ]
    }
   ],
   "source": [
    "!ls ../predictions/forecast_1_aware_tgcn_dynamic_2"
   ]
  },
  {
   "cell_type": "code",
   "execution_count": 41,
   "metadata": {},
   "outputs": [],
   "source": [
    "cluster_names = [\n",
    "    \"BRYANT\",\n",
    "    \"CAMBRIDGE\",\n",
    "    \"HAMILTON\",\n",
    "    \"HIGH\",\n",
    "    \"MPL\",\n",
    "    \"RINCONADA\",\n",
    "    \"TED\",\n",
    "    \"WEBSTER\",\n",
    "]"
   ]
  },
  {
   "cell_type": "code",
   "execution_count": 90,
   "metadata": {},
   "outputs": [],
   "source": [
    "maes_unaware = []\n",
    "maes_aware = []\n",
    "for cluster in cluster_names:\n",
    "    df_aware = pd.read_csv(glob(f\"../predictions/forecast_1_aware_tgcn_dynamic_2/*{cluster}*\")[0], index_col=0)\n",
    "    df_unaware = pd.read_csv(glob(f\"../predictions/forecast_1_unaware_tgcn_dynamic_2/*{cluster}*\")[0], index_col=0)\n",
    "    pred_col = f\"{cluster}_1\"\n",
    "    maes_unaware.append(mean_absolute_error(df_unaware[pred_col], df_unaware[pred_col+'_pred']))\n",
    "    maes_aware.append(mean_absolute_error(df_aware[pred_col], df_aware[pred_col+'_pred']))"
   ]
  },
  {
   "cell_type": "code",
   "execution_count": 91,
   "metadata": {},
   "outputs": [
    {
     "data": {
      "text/html": [
       "<div>\n",
       "<style scoped>\n",
       "    .dataframe tbody tr th:only-of-type {\n",
       "        vertical-align: middle;\n",
       "    }\n",
       "\n",
       "    .dataframe tbody tr th {\n",
       "        vertical-align: top;\n",
       "    }\n",
       "\n",
       "    .dataframe thead th {\n",
       "        text-align: right;\n",
       "    }\n",
       "</style>\n",
       "<table border=\"1\" class=\"dataframe\">\n",
       "  <thead>\n",
       "    <tr style=\"text-align: right;\">\n",
       "      <th></th>\n",
       "      <th>cluster</th>\n",
       "      <th>mae_unaware</th>\n",
       "      <th>mae_aware</th>\n",
       "    </tr>\n",
       "  </thead>\n",
       "  <tbody>\n",
       "    <tr>\n",
       "      <th>0</th>\n",
       "      <td>BRYANT</td>\n",
       "      <td>0.927888</td>\n",
       "      <td>0.767173</td>\n",
       "    </tr>\n",
       "    <tr>\n",
       "      <th>1</th>\n",
       "      <td>CAMBRIDGE</td>\n",
       "      <td>0.791751</td>\n",
       "      <td>0.855644</td>\n",
       "    </tr>\n",
       "    <tr>\n",
       "      <th>2</th>\n",
       "      <td>HAMILTON</td>\n",
       "      <td>0.726947</td>\n",
       "      <td>1.514111</td>\n",
       "    </tr>\n",
       "    <tr>\n",
       "      <th>3</th>\n",
       "      <td>HIGH</td>\n",
       "      <td>0.763246</td>\n",
       "      <td>0.792396</td>\n",
       "    </tr>\n",
       "    <tr>\n",
       "      <th>4</th>\n",
       "      <td>MPL</td>\n",
       "      <td>0.300162</td>\n",
       "      <td>0.531623</td>\n",
       "    </tr>\n",
       "    <tr>\n",
       "      <th>5</th>\n",
       "      <td>RINCONADA</td>\n",
       "      <td>0.290918</td>\n",
       "      <td>0.392738</td>\n",
       "    </tr>\n",
       "    <tr>\n",
       "      <th>6</th>\n",
       "      <td>TED</td>\n",
       "      <td>0.733154</td>\n",
       "      <td>0.845198</td>\n",
       "    </tr>\n",
       "    <tr>\n",
       "      <th>7</th>\n",
       "      <td>WEBSTER</td>\n",
       "      <td>0.569917</td>\n",
       "      <td>0.917863</td>\n",
       "    </tr>\n",
       "  </tbody>\n",
       "</table>\n",
       "</div>"
      ],
      "text/plain": [
       "     cluster  mae_unaware  mae_aware\n",
       "0     BRYANT     0.927888   0.767173\n",
       "1  CAMBRIDGE     0.791751   0.855644\n",
       "2   HAMILTON     0.726947   1.514111\n",
       "3       HIGH     0.763246   0.792396\n",
       "4        MPL     0.300162   0.531623\n",
       "5  RINCONADA     0.290918   0.392738\n",
       "6        TED     0.733154   0.845198\n",
       "7    WEBSTER     0.569917   0.917863"
      ]
     },
     "execution_count": 91,
     "metadata": {},
     "output_type": "execute_result"
    }
   ],
   "source": [
    "df_losses = pd.DataFrame({'cluster': cluster_names, 'mae_unaware': maes_unaware, 'mae_aware': maes_aware})\n",
    "df_losses"
   ]
  },
  {
   "cell_type": "code",
   "execution_count": 92,
   "metadata": {},
   "outputs": [],
   "source": [
    "df_losses['cluster_contrib_unaware'] = df_losses.mae_unaware / df_losses.mae_unaware.sum()\n",
    "df_losses['cluster_contrib_aware'] = df_losses.mae_aware / df_losses.mae_aware.sum()"
   ]
  },
  {
   "cell_type": "code",
   "execution_count": 93,
   "metadata": {},
   "outputs": [
    {
     "data": {
      "text/html": [
       "<div>\n",
       "<style scoped>\n",
       "    .dataframe tbody tr th:only-of-type {\n",
       "        vertical-align: middle;\n",
       "    }\n",
       "\n",
       "    .dataframe tbody tr th {\n",
       "        vertical-align: top;\n",
       "    }\n",
       "\n",
       "    .dataframe thead th {\n",
       "        text-align: right;\n",
       "    }\n",
       "</style>\n",
       "<table border=\"1\" class=\"dataframe\">\n",
       "  <thead>\n",
       "    <tr style=\"text-align: right;\">\n",
       "      <th></th>\n",
       "      <th>cluster</th>\n",
       "      <th>mae_unaware</th>\n",
       "      <th>mae_aware</th>\n",
       "      <th>cluster_contrib_unaware</th>\n",
       "      <th>cluster_contrib_aware</th>\n",
       "    </tr>\n",
       "  </thead>\n",
       "  <tbody>\n",
       "    <tr>\n",
       "      <th>0</th>\n",
       "      <td>BRYANT</td>\n",
       "      <td>0.927888</td>\n",
       "      <td>0.767173</td>\n",
       "      <td>0.181797</td>\n",
       "      <td>0.115944</td>\n",
       "    </tr>\n",
       "    <tr>\n",
       "      <th>1</th>\n",
       "      <td>CAMBRIDGE</td>\n",
       "      <td>0.791751</td>\n",
       "      <td>0.855644</td>\n",
       "      <td>0.155124</td>\n",
       "      <td>0.129315</td>\n",
       "    </tr>\n",
       "    <tr>\n",
       "      <th>2</th>\n",
       "      <td>HAMILTON</td>\n",
       "      <td>0.726947</td>\n",
       "      <td>1.514111</td>\n",
       "      <td>0.142427</td>\n",
       "      <td>0.228830</td>\n",
       "    </tr>\n",
       "    <tr>\n",
       "      <th>3</th>\n",
       "      <td>HIGH</td>\n",
       "      <td>0.763246</td>\n",
       "      <td>0.792396</td>\n",
       "      <td>0.149539</td>\n",
       "      <td>0.119756</td>\n",
       "    </tr>\n",
       "    <tr>\n",
       "      <th>4</th>\n",
       "      <td>MPL</td>\n",
       "      <td>0.300162</td>\n",
       "      <td>0.531623</td>\n",
       "      <td>0.058809</td>\n",
       "      <td>0.080345</td>\n",
       "    </tr>\n",
       "    <tr>\n",
       "      <th>5</th>\n",
       "      <td>RINCONADA</td>\n",
       "      <td>0.290918</td>\n",
       "      <td>0.392738</td>\n",
       "      <td>0.056998</td>\n",
       "      <td>0.059355</td>\n",
       "    </tr>\n",
       "    <tr>\n",
       "      <th>6</th>\n",
       "      <td>TED</td>\n",
       "      <td>0.733154</td>\n",
       "      <td>0.845198</td>\n",
       "      <td>0.143643</td>\n",
       "      <td>0.127736</td>\n",
       "    </tr>\n",
       "    <tr>\n",
       "      <th>7</th>\n",
       "      <td>WEBSTER</td>\n",
       "      <td>0.569917</td>\n",
       "      <td>0.917863</td>\n",
       "      <td>0.111661</td>\n",
       "      <td>0.138718</td>\n",
       "    </tr>\n",
       "  </tbody>\n",
       "</table>\n",
       "</div>"
      ],
      "text/plain": [
       "     cluster  mae_unaware  mae_aware  cluster_contrib_unaware  \\\n",
       "0     BRYANT     0.927888   0.767173                 0.181797   \n",
       "1  CAMBRIDGE     0.791751   0.855644                 0.155124   \n",
       "2   HAMILTON     0.726947   1.514111                 0.142427   \n",
       "3       HIGH     0.763246   0.792396                 0.149539   \n",
       "4        MPL     0.300162   0.531623                 0.058809   \n",
       "5  RINCONADA     0.290918   0.392738                 0.056998   \n",
       "6        TED     0.733154   0.845198                 0.143643   \n",
       "7    WEBSTER     0.569917   0.917863                 0.111661   \n",
       "\n",
       "   cluster_contrib_aware  \n",
       "0               0.115944  \n",
       "1               0.129315  \n",
       "2               0.228830  \n",
       "3               0.119756  \n",
       "4               0.080345  \n",
       "5               0.059355  \n",
       "6               0.127736  \n",
       "7               0.138718  "
      ]
     },
     "execution_count": 93,
     "metadata": {},
     "output_type": "execute_result"
    }
   ],
   "source": [
    "df_losses"
   ]
  },
  {
   "cell_type": "code",
   "execution_count": 94,
   "metadata": {},
   "outputs": [
    {
     "data": {
      "text/plain": [
       "<Axes: title={'center': 'Cluster contribution to MAE'}, xlabel='cluster'>"
      ]
     },
     "execution_count": 94,
     "metadata": {},
     "output_type": "execute_result"
    },
    {
     "data": {
      "image/png": "[encoded data removed]",
      "text/plain": [
       "<Figure size 1000x500 with 1 Axes>"
      ]
     },
     "metadata": {},
     "output_type": "display_data"
    }
   ],
   "source": [
    "df_losses.sort_values('cluster_contrib_aware', ascending=False).plot(x='cluster', y=['cluster_contrib_unaware', 'cluster_contrib_aware'], kind='bar', figsize=(10, 5), rot=0, title='Cluster contribution to MAE'\n",
    ")"
   ]
  },
  {
   "cell_type": "code",
   "execution_count": 78,
   "metadata": {},
   "outputs": [
    {
     "name": "stdout",
     "output_type": "stream",
     "text": [
      "MAE unaware: 0.6379979558052784\n",
      "MAE aware: 0.8270933641991047\n"
     ]
    }
   ],
   "source": [
    "print(f\"MAE unaware: {np.mean(maes_unaware)}\")\n",
    "print(f\"MAE aware: {np.mean(maes_aware)}\")"
   ]
  },
  {
   "cell_type": "code",
   "execution_count": 79,
   "metadata": {},
   "outputs": [
    {
     "data": {
      "text/plain": [
       "array([0.76717263, 0.8556439 , 1.51411079, 0.79239647, 0.53162329,\n",
       "       0.39273818, 0.84519849, 0.91786315])"
      ]
     },
     "execution_count": 79,
     "metadata": {},
     "output_type": "execute_result"
    }
   ],
   "source": [
    "np.array(maes_aware)"
   ]
  },
  {
   "cell_type": "code",
   "execution_count": 80,
   "metadata": {},
   "outputs": [
    {
     "data": {
      "text/plain": [
       "array([ 0.16071579, -0.06389255, -0.78716335, -0.02915028, -0.23146175,\n",
       "       -0.10182031, -0.11204495, -0.34794587])"
      ]
     },
     "execution_count": 80,
     "metadata": {},
     "output_type": "execute_result"
    }
   ],
   "source": [
    "np.array(maes_unaware) - np.array(maes_aware)"
   ]
  },
  {
   "cell_type": "code",
   "execution_count": 44,
   "metadata": {},
   "outputs": [
    {
     "data": {
      "text/html": [
       "<div>\n",
       "<style scoped>\n",
       "    .dataframe tbody tr th:only-of-type {\n",
       "        vertical-align: middle;\n",
       "    }\n",
       "\n",
       "    .dataframe tbody tr th {\n",
       "        vertical-align: top;\n",
       "    }\n",
       "\n",
       "    .dataframe thead th {\n",
       "        text-align: right;\n",
       "    }\n",
       "</style>\n",
       "<table border=\"1\" class=\"dataframe\">\n",
       "  <thead>\n",
       "    <tr style=\"text-align: right;\">\n",
       "      <th></th>\n",
       "      <th>WEBSTER_1</th>\n",
       "      <th>WEBSTER_1_pred</th>\n",
       "      <th>WEBSTER_1_true</th>\n",
       "    </tr>\n",
       "    <tr>\n",
       "      <th>Date</th>\n",
       "      <th></th>\n",
       "      <th></th>\n",
       "      <th></th>\n",
       "    </tr>\n",
       "  </thead>\n",
       "  <tbody>\n",
       "    <tr>\n",
       "      <th>2019-04-08 00:30:00</th>\n",
       "      <td>0.0</td>\n",
       "      <td>0.016278</td>\n",
       "      <td>NaN</td>\n",
       "    </tr>\n",
       "    <tr>\n",
       "      <th>2019-04-08 01:00:00</th>\n",
       "      <td>0.0</td>\n",
       "      <td>0.014874</td>\n",
       "      <td>NaN</td>\n",
       "    </tr>\n",
       "    <tr>\n",
       "      <th>2019-04-08 01:30:00</th>\n",
       "      <td>0.0</td>\n",
       "      <td>0.014594</td>\n",
       "      <td>NaN</td>\n",
       "    </tr>\n",
       "    <tr>\n",
       "      <th>2019-04-08 02:00:00</th>\n",
       "      <td>0.0</td>\n",
       "      <td>0.015215</td>\n",
       "      <td>NaN</td>\n",
       "    </tr>\n",
       "    <tr>\n",
       "      <th>2019-04-08 02:30:00</th>\n",
       "      <td>0.0</td>\n",
       "      <td>0.017062</td>\n",
       "      <td>NaN</td>\n",
       "    </tr>\n",
       "    <tr>\n",
       "      <th>...</th>\n",
       "      <td>...</td>\n",
       "      <td>...</td>\n",
       "      <td>...</td>\n",
       "    </tr>\n",
       "    <tr>\n",
       "      <th>2019-06-30 22:00:00</th>\n",
       "      <td>1.0</td>\n",
       "      <td>0.765798</td>\n",
       "      <td>NaN</td>\n",
       "    </tr>\n",
       "    <tr>\n",
       "      <th>2019-06-30 22:30:00</th>\n",
       "      <td>1.0</td>\n",
       "      <td>0.472789</td>\n",
       "      <td>NaN</td>\n",
       "    </tr>\n",
       "    <tr>\n",
       "      <th>2019-06-30 23:00:00</th>\n",
       "      <td>1.0</td>\n",
       "      <td>0.323416</td>\n",
       "      <td>NaN</td>\n",
       "    </tr>\n",
       "    <tr>\n",
       "      <th>2019-06-30 23:30:00</th>\n",
       "      <td>0.0</td>\n",
       "      <td>0.211777</td>\n",
       "      <td>NaN</td>\n",
       "    </tr>\n",
       "    <tr>\n",
       "      <th>2019-07-01 00:00:00</th>\n",
       "      <td>0.0</td>\n",
       "      <td>0.102405</td>\n",
       "      <td>NaN</td>\n",
       "    </tr>\n",
       "  </tbody>\n",
       "</table>\n",
       "<p>4032 rows × 3 columns</p>\n",
       "</div>"
      ],
      "text/plain": [
       "                     WEBSTER_1  WEBSTER_1_pred  WEBSTER_1_true\n",
       "Date                                                          \n",
       "2019-04-08 00:30:00        0.0        0.016278             NaN\n",
       "2019-04-08 01:00:00        0.0        0.014874             NaN\n",
       "2019-04-08 01:30:00        0.0        0.014594             NaN\n",
       "2019-04-08 02:00:00        0.0        0.015215             NaN\n",
       "2019-04-08 02:30:00        0.0        0.017062             NaN\n",
       "...                        ...             ...             ...\n",
       "2019-06-30 22:00:00        1.0        0.765798             NaN\n",
       "2019-06-30 22:30:00        1.0        0.472789             NaN\n",
       "2019-06-30 23:00:00        1.0        0.323416             NaN\n",
       "2019-06-30 23:30:00        0.0        0.211777             NaN\n",
       "2019-07-01 00:00:00        0.0        0.102405             NaN\n",
       "\n",
       "[4032 rows x 3 columns]"
      ]
     },
     "execution_count": 44,
     "metadata": {},
     "output_type": "execute_result"
    }
   ],
   "source": [
    "df_unaware"
   ]
  },
  {
   "cell_type": "code",
   "execution_count": null,
   "metadata": {},
   "outputs": [],
   "source": []
  }
 ],
 "metadata": {
  "kernelspec": {
   "display_name": "thesis",
   "language": "python",
   "name": "python3"
  },
  "language_info": {
   "codemirror_mode": {
    "name": "ipython",
    "version": 3
   },
   "file_extension": ".py",
   "mimetype": "text/x-python",
   "name": "python",
   "nbconvert_exporter": "python",
   "pygments_lexer": "ipython3",
   "version": "3.10.9"
  },
  "orig_nbformat": 4
 },
 "nbformat": 4,
 "nbformat_minor": 2
}

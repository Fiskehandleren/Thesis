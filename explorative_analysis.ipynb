{
 "cells": [
  {
   "cell_type": "code",
   "execution_count": 1,
   "metadata": {},
   "outputs": [],
   "source": [
    "import pandas as pd \n",
    "import matplotlib.pyplot as plt\n"
   ]
  },
  {
   "cell_type": "code",
   "execution_count": 2,
   "metadata": {},
   "outputs": [
    {
     "name": "stdout",
     "output_type": "stream",
     "text": [
      "<class 'pandas.core.frame.DataFrame'>\n",
      "RangeIndex: 259415 entries, 0 to 259414\n",
      "Data columns (total 29 columns):\n",
      " #   Column                           Non-Null Count   Dtype         \n",
      "---  ------                           --------------   -----         \n",
      " 0   Station Name                     259415 non-null  object        \n",
      " 1   MAC Address                      259415 non-null  object        \n",
      " 2   Start Date                       259415 non-null  datetime64[ns]\n",
      " 3   End Date                         259415 non-null  object        \n",
      " 4   Transaction Date (Pacific Time)  259206 non-null  object        \n",
      " 5   Total Duration (hh:mm:ss)        259415 non-null  object        \n",
      " 6   Charging Time (hh:mm:ss)         259415 non-null  object        \n",
      " 7   Energy (kWh)                     259415 non-null  float64       \n",
      " 8   GHG Savings (kg)                 259415 non-null  float64       \n",
      " 9   Gasoline Savings (gallons)       259415 non-null  float64       \n",
      " 10  Port Type                        259406 non-null  object        \n",
      " 11  Port Number                      259415 non-null  int64         \n",
      " 12  Plug Type                        259415 non-null  object        \n",
      " 13  EVSE ID                          180467 non-null  float64       \n",
      " 14  Address 1                        259415 non-null  object        \n",
      " 15  City                             259415 non-null  object        \n",
      " 16  State/Province                   259415 non-null  object        \n",
      " 17  Postal Code                      259415 non-null  int64         \n",
      " 18  Latitude                         259415 non-null  float64       \n",
      " 19  Longitude                        259415 non-null  float64       \n",
      " 20  Currency                         257627 non-null  object        \n",
      " 21  Fee                              259415 non-null  float64       \n",
      " 22  Ended By                         259167 non-null  object        \n",
      " 23  Plug In Event Id                 259415 non-null  int64         \n",
      " 24  Driver Postal Code               251013 non-null  float64       \n",
      " 25  User ID                          251738 non-null  object        \n",
      " 26  County                           174750 non-null  object        \n",
      " 27  System S/N                       180467 non-null  float64       \n",
      " 28  Model Number                     180467 non-null  object        \n",
      "dtypes: datetime64[ns](1), float64(9), int64(3), object(16)\n",
      "memory usage: 57.4+ MB\n"
     ]
    }
   ],
   "source": [
    "df = pd.read_csv('ChargePoint Data CY20Q4.csv', dtype={'Station Name': str}, parse_dates=['End Date', 'Start Date'], low_memory=False)\n",
    "df = df.drop([\"Org Name\", \"Country\", \"Start Time Zone\", \"End Time Zone\"], axis=1)\n",
    "df.info()"
   ]
  },
  {
   "cell_type": "code",
   "execution_count": null,
   "metadata": {},
   "outputs": [],
   "source": []
  }
 ],
 "metadata": {
  "interpreter": {
   "hash": "8b25620549bbd643200dfc274c7d1a1f0dbb88e70029c5b729f994804e9a413f"
  },
  "kernelspec": {
   "display_name": "Python 3.9.4 64-bit ('3.9.4')",
   "language": "python",
   "name": "python3"
  },
  "language_info": {
   "codemirror_mode": {
    "name": "ipython",
    "version": 3
   },
   "file_extension": ".py",
   "mimetype": "text/x-python",
   "name": "python",
   "nbconvert_exporter": "python",
   "pygments_lexer": "ipython3",
   "version": "3.9.5"
  },
  "orig_nbformat": 4
 },
 "nbformat": 4,
 "nbformat_minor": 2
}
